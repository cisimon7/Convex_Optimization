{
  "nbformat": 4,
  "nbformat_minor": 0,
  "metadata": {
    "colab": {
      "name": "Cart-Pole Trajectory Optimization.ipynb",
      "provenance": [],
      "toc_visible": true,
      "authorship_tag": "ABX9TyOw6kxIdMk+ojdCJixtQh0X",
      "include_colab_link": true
    },
    "kernelspec": {
      "name": "python3",
      "display_name": "Python 3"
    },
    "language_info": {
      "name": "python"
    }
  },
  "cells": [
    {
      "cell_type": "markdown",
      "metadata": {
        "id": "view-in-github",
        "colab_type": "text"
      },
      "source": [
        "<a href=\"https://colab.research.google.com/github/cisimon7/Optimization-Technics-and-Application/blob/main/Trajectory%20Optimization/Cart_Pole/Direct%20Method%20(python).ipynb\" target=\"_parent\"><img src=\"https://colab.research.google.com/assets/colab-badge.svg\" alt=\"Open In Colab\"/></a>"
      ]
    },
    {
      "cell_type": "markdown",
      "metadata": {
        "id": "D2Y4wUy21rAO"
      },
      "source": [
        "<h1 align=\"center\"><b>Trajectory Optimization of Cart-Pole System</b></h1>\n",
        "<h2 align=\"center\"><b>Simon Idoko</b></h2>\n",
        "<h3><i>A Test of Trajectory Optimization on a Cart-Pole System before using on main thesis project</i></h3>"
      ]
    },
    {
      "cell_type": "markdown",
      "metadata": {
        "id": "n3qOTTia9kNB"
      },
      "source": [
        "###<b>Imports</b>"
      ]
    },
    {
      "cell_type": "code",
      "metadata": {
        "id": "PLCbgxiXJ9CJ"
      },
      "source": [
        "from IPython.display import clear_output \n",
        "!pip install casadi\n",
        "clear_output()"
      ],
      "execution_count": null,
      "outputs": []
    },
    {
      "cell_type": "code",
      "metadata": {
        "id": "mzOOfEbI-rqs"
      },
      "source": [
        "import numpy as np\n",
        "import casadi as csd\n",
        "from functools import reduce\n",
        "from casadi import MX, SX, DM, Function\n",
        "np.set_printoptions(linewidth=200, precision=4, suppress=True)"
      ],
      "execution_count": null,
      "outputs": []
    },
    {
      "cell_type": "code",
      "metadata": {
        "id": "HdzglNFuCK0E"
      },
      "source": [
        "import plotly.graph_objects as go"
      ],
      "execution_count": null,
      "outputs": []
    },
    {
      "cell_type": "markdown",
      "metadata": {
        "id": "MKLZHWd6Ee7s"
      },
      "source": [
        "###<b>Parameter Initialization</b>"
      ]
    },
    {
      "cell_type": "code",
      "metadata": {
        "id": "aBSX4Mx5zHKu"
      },
      "source": [
        "# SYSTEM DIMENSIONS\n",
        "m1   = 1                    # Mass of Cart  \n",
        "m2   = 0.3                  # Mass of Pole \n",
        "L    = 0.5                  # Length of rod \n",
        "g    = 9.81                 # Gravity       "
      ],
      "execution_count": null,
      "outputs": []
    },
    {
      "cell_type": "code",
      "metadata": {
        "id": "P3GMoSXyzfp3"
      },
      "source": [
        "# COLLOCATION DETAILS\n",
        "tmin  = 0                   # Time start\n",
        "tmax  = 5                   # Time End\n",
        "n     = 40                  # Number of grid points\n",
        "h     = (tmax-tmin)/(n)     # Time Step"
      ],
      "execution_count": null,
      "outputs": []
    },
    {
      "cell_type": "code",
      "metadata": {
        "id": "lenM_qkf0a-v"
      },
      "source": [
        "# PATH LENGTH BOUNDARIES\n",
        "dmin  = -2                  # Start of finite path\n",
        "dmax  = +2                  # End of finit path"
      ],
      "execution_count": null,
      "outputs": []
    },
    {
      "cell_type": "code",
      "metadata": {
        "id": "4NNdgRBH0jsX"
      },
      "source": [
        "# CONTROL TORQUE BOUNDARIES\n",
        "umin  = -20                 # Minimum torque\n",
        "umax  = +20                 # Maximum Torque"
      ],
      "execution_count": null,
      "outputs": []
    },
    {
      "cell_type": "code",
      "metadata": {
        "id": "7Y0u5Md18NqI"
      },
      "source": [
        "# INITIAL STATE\n",
        "d0     = -0.5                 # Desired Final position\n",
        "theta0 = 0                    # Desired Angle"
      ],
      "execution_count": null,
      "outputs": []
    },
    {
      "cell_type": "code",
      "metadata": {
        "id": "1RIDomhk0rU0"
      },
      "source": [
        "# DESIRED FINAL STATE\n",
        "d     = 0.5                 # Desired Final position\n",
        "theta = np.pi               # Desired Angle"
      ],
      "execution_count": null,
      "outputs": []
    },
    {
      "cell_type": "code",
      "metadata": {
        "id": "zUStBu5N2WsL"
      },
      "source": [
        "params = [ m1, m2, L, g ]"
      ],
      "execution_count": null,
      "outputs": []
    },
    {
      "cell_type": "markdown",
      "metadata": {
        "id": "OCyoSyJAyyhV"
      },
      "source": [
        "###<b>Dynamics, Objectives and Constraints</b>\n"
      ]
    },
    {
      "cell_type": "markdown",
      "metadata": {
        "id": "pQDDQvXs6cvo"
      },
      "source": [
        "#####<i>States Definition</i>\n"
      ]
    },
    {
      "cell_type": "code",
      "metadata": {
        "id": "jAjuIobf1R9M"
      },
      "source": [
        "# STATES AND PARAMETERS DEFINITION\n",
        "opti = csd.Opti()                                   # CasADi Optimization Object\n",
        "\n",
        "time = np.arange(tmin,tmax,h)                       # Discretized Time Sequence\n",
        "us   = opti.variable(n)                             # u - representing Controller torque\n",
        "\n",
        "q1s, q2s     = opti.variable(n), opti.variable(n)   # Cart Pole Position and Pole Angle [   q1,   q2 ]  \n",
        "qs           = csd.horzcat(q1s,q2s)  \n",
        "\n",
        "qd1s, qd2s   = opti.variable(n), opti.variable(n)   # Cart Pole Position and Pole Angle [ qdd1, qdd2 ] \n",
        "qds          = csd.horzcat(qd1s,qd2s)  \n",
        "\n",
        "qdd1s, qdd2s = opti.variable(n), opti.variable(n)   # Cart Pole Position and Pole Angle [   q1,   q2 ]  \n",
        "qdds         = csd.horzcat(qdd1s,qdd2s)  \n",
        "\n",
        "states  = csd.horzcat(qs,qds)                       # [[  q1,  q2,  qd1,  qd2 ]]\n",
        "dstates = csd.horzcat(qds,qdds)                     # [[ qd1, qd2, qdd1, qdd2 ]]"
      ],
      "execution_count": null,
      "outputs": []
    },
    {
      "cell_type": "code",
      "metadata": {
        "colab": {
          "base_uri": "https://localhost:8080/"
        },
        "id": "ukmTzWq5aNUl",
        "outputId": "effa386e-11d5-4603-8d90-3491a8c8b91b"
      },
      "source": [
        "print(states.shape)\n",
        "print(dstates.shape)"
      ],
      "execution_count": null,
      "outputs": [
        {
          "output_type": "stream",
          "text": [
            "(40, 4)\n",
            "(40, 4)\n"
          ],
          "name": "stdout"
        }
      ]
    },
    {
      "cell_type": "markdown",
      "metadata": {
        "id": "hlrolgQF5-Zz"
      },
      "source": [
        "#####<i>Dynamics Equation in Standard Manipulator Form</i>\n"
      ]
    },
    {
      "cell_type": "code",
      "metadata": {
        "id": "MxNEn_Xz2G2W"
      },
      "source": [
        "def Inertia(t_k, state_k):\n",
        "  q1, q2, qd1, qd2 = state_k[0], state_k[1], state_k[2], state_k[3]\n",
        "  \n",
        "  return csd.vertcat(\n",
        "      csd.horzcat(            m1+m2,  m1*L*csd.cos(q2) ),\n",
        "      csd.horzcat( m1*L*csd.cos(q2),          m1*L**2  )\n",
        "  )"
      ],
      "execution_count": null,
      "outputs": []
    },
    {
      "cell_type": "code",
      "metadata": {
        "id": "Q7z1cd3b3SPE"
      },
      "source": [
        "def Coriolis(t_k, state_k):\n",
        "  q1, q2, qd1, qd2 = state_k[0], state_k[1], state_k[2], state_k[3]\n",
        "\n",
        "  return csd.vertcat(\n",
        "      csd.horzcat( 0, -m1*qd2*csd.sin(q2) ),\n",
        "      csd.horzcat( 0,                   0 )\n",
        "   )"
      ],
      "execution_count": null,
      "outputs": []
    },
    {
      "cell_type": "code",
      "metadata": {
        "id": "w8xoMzht4J0k"
      },
      "source": [
        "def Gravity(t_k, state_k):\n",
        "  q1, q2, qd1, qd2 = state_k[0], state_k[1], state_k[2], state_k[3]\n",
        "\n",
        "  return csd.vertcat( 0, m2*g*L*csd.sin(q2) )"
      ],
      "execution_count": null,
      "outputs": []
    },
    {
      "cell_type": "code",
      "metadata": {
        "id": "7KuCtl804UkD"
      },
      "source": [
        "def TorqueMat(t_k, state_k):\n",
        "  q1, q2, qd1, qd2 = state_k[0], state_k[1], state_k[2], state_k[3]\n",
        "\n",
        "  return csd.vertcat( 1, 0 )  "
      ],
      "execution_count": null,
      "outputs": []
    },
    {
      "cell_type": "code",
      "metadata": {
        "id": "zhbBvlFx4kdr"
      },
      "source": [
        "def Dynamics(t_k, state_k, controller_K):\n",
        "  M = Inertia(t_k, state_k)\n",
        "  C = Coriolis(t_k, state_k)\n",
        "  G = Gravity(t_k, state_k)\n",
        "  B = TorqueMat(t_k, state_k)\n",
        "  u = controller_K\n",
        "\n",
        "  qdd = csd.inv(M) @ (B@u - G - C@(state_k[2:4].T))\n",
        "\n",
        "  return csd.horzcat(state_k[2:4], qdd.T)"
      ],
      "execution_count": null,
      "outputs": []
    },
    {
      "cell_type": "markdown",
      "metadata": {
        "id": "8t63wCKN6CWd"
      },
      "source": [
        "#####<i>Cost Function</i>\n"
      ]
    },
    {
      "cell_type": "code",
      "metadata": {
        "id": "ywPFl2RC6Lqi"
      },
      "source": [
        "\"\"\"The Cost function we use is the total energy (sum of Kinetic and Potential Energy) in the system\"\"\"\n",
        "def Cost(t_k,state_k,controller_k):  \n",
        "  q1, q2, qd1, qd2 = state_k[0], state_k[1], state_k[2], state_k[3]\n",
        "\n",
        "  KE = (0.5 * (m1+m2) * qd1**2) + m1*qd1*qd2*L*csd.cos(q2) + (0.5 * m1 * L**2 * qd2**2)\n",
        "  # PE = m2*g*L*csd.cos(q2)\n",
        "\n",
        "  energy = KE \n",
        "\n",
        "  return energy"
      ],
      "execution_count": null,
      "outputs": []
    },
    {
      "cell_type": "code",
      "metadata": {
        "id": "QkbkNq0-yJms"
      },
      "source": [
        "w = [ Cost(time[i],states[i,:],us[i]) for i in range(n) ]\n",
        "objective = reduce(lambda w1,w2: w1+w2, [ h/2 * (w[i] + w[i+1]) for i in range(n-1) ])"
      ],
      "execution_count": null,
      "outputs": []
    },
    {
      "cell_type": "markdown",
      "metadata": {
        "id": "HwLnISUlwalr"
      },
      "source": [
        "#####<i>Controller Constraints</i>\n"
      ]
    },
    {
      "cell_type": "code",
      "metadata": {
        "id": "LD4iTWFHwalr"
      },
      "source": [
        "control_constraints = [ opti.bounded(umin,us[i],umax) for i in range(n) ]"
      ],
      "execution_count": null,
      "outputs": []
    },
    {
      "cell_type": "markdown",
      "metadata": {
        "id": "EEDcZiMt-DET"
      },
      "source": [
        "#####<i>Path Constraints</i>\n"
      ]
    },
    {
      "cell_type": "code",
      "metadata": {
        "id": "GrBdGNE--GQ7"
      },
      "source": [
        "path_constraints = [ opti.bounded(dmin,q1s[i],dmax) for i in range(n) ] # Keep Cart on finite Track Length"
      ],
      "execution_count": null,
      "outputs": []
    },
    {
      "cell_type": "markdown",
      "metadata": {
        "id": "j-f1fu4y9qwr"
      },
      "source": [
        "#####<i>Boundary Conditions</i>\n"
      ]
    },
    {
      "cell_type": "code",
      "metadata": {
        "id": "aAOh_H7m9vVM"
      },
      "source": [
        "state_init  = [ d0, theta0, 0, 0 ]\n",
        "state_end   = [ d, theta, 0, 0 ]"
      ],
      "execution_count": null,
      "outputs": []
    },
    {
      "cell_type": "code",
      "metadata": {
        "id": "cZFrUXQ_poG9"
      },
      "source": [
        "boundary_constraints = [\n",
        "    *[ states[0,i]   == state_init[i] for i in range(4) ],\n",
        "    *[ states[n-1,i] == state_end[i]  for i in range(4) ]\n",
        "] "
      ],
      "execution_count": null,
      "outputs": []
    },
    {
      "cell_type": "markdown",
      "metadata": {
        "id": "KPntUbQpxsiq"
      },
      "source": [
        "#####<i>Dynamics Constraints</i>\n"
      ]
    },
    {
      "cell_type": "code",
      "metadata": {
        "id": "6HpsibPYx6cn"
      },
      "source": [
        "def Dynamics_discrete(k):\n",
        "  dynamics = (h/2) * (Dynamics(time[k], states[k,:], us[k]) + Dynamics(time[k-1], states[k-1,:], us[k-1]))\n",
        "  return [ states[k,i] - states[k-1,i] == dynamics[i] for i in range(4) ]"
      ],
      "execution_count": null,
      "outputs": []
    },
    {
      "cell_type": "code",
      "metadata": {
        "id": "g7-01E12xsiq"
      },
      "source": [
        "dynamics_constraints = [ cons for k in range(1,n) for cons in Dynamics_discrete(k) ] "
      ],
      "execution_count": null,
      "outputs": []
    },
    {
      "cell_type": "markdown",
      "metadata": {
        "id": "BfOfuf2RDz1I"
      },
      "source": [
        "#####<b>Constraints</b>\n"
      ]
    },
    {
      "cell_type": "code",
      "metadata": {
        "id": "xE5YP6ayDz1I"
      },
      "source": [
        "constraints = [ *boundary_constraints, *control_constraints, *path_constraints, *dynamics_constraints ]"
      ],
      "execution_count": null,
      "outputs": []
    },
    {
      "cell_type": "markdown",
      "metadata": {
        "id": "mgXG6m7O94-h"
      },
      "source": [
        "#####<b>Initial Guess</b>\n"
      ]
    },
    {
      "cell_type": "code",
      "metadata": {
        "id": "G04BIagq94-m"
      },
      "source": [
        "init_guess = np.asarray([ (i/n)*np.array([ d, theta, 0, 0 ]) for i in range(states.shape[0]) ])"
      ],
      "execution_count": null,
      "outputs": []
    },
    {
      "cell_type": "markdown",
      "metadata": {
        "id": "ZsVfWCnmEfiR"
      },
      "source": [
        "###<b>Initialize Problem</b>"
      ]
    },
    {
      "cell_type": "code",
      "metadata": {
        "id": "36sXt3GzIkk9"
      },
      "source": [
        "opti.minimize(objective)\n",
        "opti.subject_to(constraints)\n",
        "for i in range(states.shape[0]):\n",
        "  for j in range(states.shape[1]):\n",
        "    opti.set_initial(states[i,j], init_guess[i,j])\n",
        "opti.solver('ipopt')\n",
        "sol = opti.solve()\n",
        "clear_output()"
      ],
      "execution_count": null,
      "outputs": []
    },
    {
      "cell_type": "code",
      "metadata": {
        "id": "Dv78ebWtI4Nu"
      },
      "source": [
        "u_vals    = [ sol.value(us[i])   for i in range(n) ]\n",
        "q1_vals   = [ sol.value(q1s[i])  for i in range(n) ]\n",
        "q2_vals   = [ sol.value(q2s[i])  for i in range(n) ]\n",
        "qd1_vals  = [ sol.value(qd1s[i]) for i in range(n) ]\n",
        "qd2_vals  = [ sol.value(qd2s[i]) for i in range(n) ]"
      ],
      "execution_count": null,
      "outputs": []
    },
    {
      "cell_type": "markdown",
      "metadata": {
        "id": "qIDuG4jHEfrq"
      },
      "source": [
        "###<b>Plots of Result</b>"
      ]
    },
    {
      "cell_type": "code",
      "metadata": {
        "colab": {
          "base_uri": "https://localhost:8080/",
          "height": 717
        },
        "id": "s8zASvf0Jaxe",
        "outputId": "1135d128-e2b2-4e1d-f230-46bcfc6cc1ef"
      },
      "source": [
        "go.Figure(\n",
        "  data=[\n",
        "      go.Scatter(x=time,y=q1_vals,mode='lines+markers',name='Pole Horizontal Position'),\n",
        "      go.Scatter(x=time,y=init_guess[:,0],mode='lines+markers',name='Guess')\n",
        "  ],\n",
        "  layout=go.Layout(width=1000, height=700, showlegend=True, title_text='Cart Pole Position', legend=dict(orientation='h'))\n",
        ").show()"
      ],
      "execution_count": null,
      "outputs": [
        {
          "output_type": "display_data",
          "data": {
            "text/html": [
              "<html>\n",
              "<head><meta charset=\"utf-8\" /></head>\n",
              "<body>\n",
              "    <div>\n",
              "            <script src=\"https://cdnjs.cloudflare.com/ajax/libs/mathjax/2.7.5/MathJax.js?config=TeX-AMS-MML_SVG\"></script><script type=\"text/javascript\">if (window.MathJax) {MathJax.Hub.Config({SVG: {font: \"STIX-Web\"}});}</script>\n",
              "                <script type=\"text/javascript\">window.PlotlyConfig = {MathJaxConfig: 'local'};</script>\n",
              "        <script src=\"https://cdn.plot.ly/plotly-latest.min.js\"></script>    \n",
              "            <div id=\"315a9375-1140-4cb9-9c22-b5ccbcb5b039\" class=\"plotly-graph-div\" style=\"height:700px; width:1000px;\"></div>\n",
              "            <script type=\"text/javascript\">\n",
              "                \n",
              "                    window.PLOTLYENV=window.PLOTLYENV || {};\n",
              "                    \n",
              "                if (document.getElementById(\"315a9375-1140-4cb9-9c22-b5ccbcb5b039\")) {\n",
              "                    Plotly.newPlot(\n",
              "                        '315a9375-1140-4cb9-9c22-b5ccbcb5b039',\n",
              "                        [{\"mode\": \"lines+markers\", \"name\": \"Pole Horizontal Position\", \"type\": \"scatter\", \"x\": [0.0, 0.125, 0.25, 0.375, 0.5, 0.625, 0.75, 0.875, 1.0, 1.125, 1.25, 1.375, 1.5, 1.625, 1.75, 1.875, 2.0, 2.125, 2.25, 2.375, 2.5, 2.625, 2.75, 2.875, 3.0, 3.125, 3.25, 3.375, 3.5, 3.625, 3.75, 3.875, 4.0, 4.125, 4.25, 4.375, 4.5, 4.625, 4.75, 4.875], \"y\": [-0.5, -0.46691794074763904, -0.40188450950185595, -0.33892467903596163, -0.2782709654835839, -0.2186654449507215, -0.16418524612783852, -0.11651322326155769, -0.0802912091378759, -0.09216217747345909, -0.24233841487074384, -0.4480790242625456, -0.5515587146977234, -0.5713693949379339, -0.5433640193356817, -0.4777102253171641, -0.38704169545509126, -0.2794246166379463, -0.16783919646441217, -0.06745792663918913, 0.01437025793812199, 0.07523052756914402, 0.12216839851525449, 0.16018593348644866, 0.19305290662584243, 0.22333387978270075, 0.25256833800117673, 0.2817867729680654, 0.3115799645890699, 0.34228295807970005, 0.3740169187988037, 0.4066877901664979, 0.43987904896464786, 0.47275769989066035, 0.5036726962424279, 0.5300553042247232, 0.5473991440881142, 0.548312144261295, 0.5214746544764648, 0.5]}, {\"mode\": \"lines+markers\", \"name\": \"Guess\", \"type\": \"scatter\", \"x\": [0.0, 0.125, 0.25, 0.375, 0.5, 0.625, 0.75, 0.875, 1.0, 1.125, 1.25, 1.375, 1.5, 1.625, 1.75, 1.875, 2.0, 2.125, 2.25, 2.375, 2.5, 2.625, 2.75, 2.875, 3.0, 3.125, 3.25, 3.375, 3.5, 3.625, 3.75, 3.875, 4.0, 4.125, 4.25, 4.375, 4.5, 4.625, 4.75, 4.875], \"y\": [0.0, 0.0125, 0.025, 0.0375, 0.05, 0.0625, 0.075, 0.0875, 0.1, 0.1125, 0.125, 0.1375, 0.15, 0.1625, 0.175, 0.1875, 0.2, 0.2125, 0.225, 0.2375, 0.25, 0.2625, 0.275, 0.2875, 0.3, 0.3125, 0.325, 0.3375, 0.35, 0.3625, 0.375, 0.3875, 0.4, 0.4125, 0.425, 0.4375, 0.45, 0.4625, 0.475, 0.4875]}],\n",
              "                        {\"height\": 700, \"legend\": {\"orientation\": \"h\"}, \"showlegend\": true, \"template\": {\"data\": {\"bar\": [{\"error_x\": {\"color\": \"#2a3f5f\"}, \"error_y\": {\"color\": \"#2a3f5f\"}, \"marker\": {\"line\": {\"color\": \"#E5ECF6\", \"width\": 0.5}}, \"type\": \"bar\"}], \"barpolar\": [{\"marker\": {\"line\": {\"color\": \"#E5ECF6\", \"width\": 0.5}}, \"type\": \"barpolar\"}], \"carpet\": [{\"aaxis\": {\"endlinecolor\": \"#2a3f5f\", \"gridcolor\": \"white\", \"linecolor\": \"white\", \"minorgridcolor\": \"white\", \"startlinecolor\": \"#2a3f5f\"}, \"baxis\": {\"endlinecolor\": \"#2a3f5f\", \"gridcolor\": \"white\", \"linecolor\": \"white\", \"minorgridcolor\": \"white\", \"startlinecolor\": \"#2a3f5f\"}, \"type\": \"carpet\"}], \"choropleth\": [{\"colorbar\": {\"outlinewidth\": 0, \"ticks\": \"\"}, \"type\": \"choropleth\"}], \"contour\": [{\"colorbar\": {\"outlinewidth\": 0, \"ticks\": \"\"}, \"colorscale\": [[0.0, \"#0d0887\"], [0.1111111111111111, \"#46039f\"], [0.2222222222222222, \"#7201a8\"], [0.3333333333333333, \"#9c179e\"], [0.4444444444444444, \"#bd3786\"], [0.5555555555555556, \"#d8576b\"], [0.6666666666666666, \"#ed7953\"], [0.7777777777777778, \"#fb9f3a\"], [0.8888888888888888, \"#fdca26\"], [1.0, \"#f0f921\"]], \"type\": \"contour\"}], \"contourcarpet\": [{\"colorbar\": {\"outlinewidth\": 0, \"ticks\": \"\"}, \"type\": \"contourcarpet\"}], \"heatmap\": [{\"colorbar\": {\"outlinewidth\": 0, \"ticks\": \"\"}, \"colorscale\": [[0.0, \"#0d0887\"], [0.1111111111111111, \"#46039f\"], [0.2222222222222222, \"#7201a8\"], [0.3333333333333333, \"#9c179e\"], [0.4444444444444444, \"#bd3786\"], [0.5555555555555556, \"#d8576b\"], [0.6666666666666666, \"#ed7953\"], [0.7777777777777778, \"#fb9f3a\"], [0.8888888888888888, \"#fdca26\"], [1.0, \"#f0f921\"]], \"type\": \"heatmap\"}], \"heatmapgl\": [{\"colorbar\": {\"outlinewidth\": 0, \"ticks\": \"\"}, \"colorscale\": [[0.0, \"#0d0887\"], [0.1111111111111111, \"#46039f\"], [0.2222222222222222, \"#7201a8\"], [0.3333333333333333, \"#9c179e\"], [0.4444444444444444, \"#bd3786\"], [0.5555555555555556, \"#d8576b\"], [0.6666666666666666, \"#ed7953\"], [0.7777777777777778, \"#fb9f3a\"], [0.8888888888888888, \"#fdca26\"], [1.0, \"#f0f921\"]], \"type\": \"heatmapgl\"}], \"histogram\": [{\"marker\": {\"colorbar\": {\"outlinewidth\": 0, \"ticks\": \"\"}}, \"type\": \"histogram\"}], \"histogram2d\": [{\"colorbar\": {\"outlinewidth\": 0, \"ticks\": \"\"}, \"colorscale\": [[0.0, \"#0d0887\"], [0.1111111111111111, \"#46039f\"], [0.2222222222222222, \"#7201a8\"], [0.3333333333333333, \"#9c179e\"], [0.4444444444444444, \"#bd3786\"], [0.5555555555555556, \"#d8576b\"], [0.6666666666666666, \"#ed7953\"], [0.7777777777777778, \"#fb9f3a\"], [0.8888888888888888, \"#fdca26\"], [1.0, \"#f0f921\"]], \"type\": \"histogram2d\"}], \"histogram2dcontour\": [{\"colorbar\": {\"outlinewidth\": 0, \"ticks\": \"\"}, \"colorscale\": [[0.0, \"#0d0887\"], [0.1111111111111111, \"#46039f\"], [0.2222222222222222, \"#7201a8\"], [0.3333333333333333, \"#9c179e\"], [0.4444444444444444, \"#bd3786\"], [0.5555555555555556, \"#d8576b\"], [0.6666666666666666, \"#ed7953\"], [0.7777777777777778, \"#fb9f3a\"], [0.8888888888888888, \"#fdca26\"], [1.0, \"#f0f921\"]], \"type\": \"histogram2dcontour\"}], \"mesh3d\": [{\"colorbar\": {\"outlinewidth\": 0, \"ticks\": \"\"}, \"type\": \"mesh3d\"}], \"parcoords\": [{\"line\": {\"colorbar\": {\"outlinewidth\": 0, \"ticks\": \"\"}}, \"type\": \"parcoords\"}], \"pie\": [{\"automargin\": true, \"type\": \"pie\"}], \"scatter\": [{\"marker\": {\"colorbar\": {\"outlinewidth\": 0, \"ticks\": \"\"}}, \"type\": \"scatter\"}], \"scatter3d\": [{\"line\": {\"colorbar\": {\"outlinewidth\": 0, \"ticks\": \"\"}}, \"marker\": {\"colorbar\": {\"outlinewidth\": 0, \"ticks\": \"\"}}, \"type\": \"scatter3d\"}], \"scattercarpet\": [{\"marker\": {\"colorbar\": {\"outlinewidth\": 0, \"ticks\": \"\"}}, \"type\": \"scattercarpet\"}], \"scattergeo\": [{\"marker\": {\"colorbar\": {\"outlinewidth\": 0, \"ticks\": \"\"}}, \"type\": \"scattergeo\"}], \"scattergl\": [{\"marker\": {\"colorbar\": {\"outlinewidth\": 0, \"ticks\": \"\"}}, \"type\": \"scattergl\"}], \"scattermapbox\": [{\"marker\": {\"colorbar\": {\"outlinewidth\": 0, \"ticks\": \"\"}}, \"type\": \"scattermapbox\"}], \"scatterpolar\": [{\"marker\": {\"colorbar\": {\"outlinewidth\": 0, \"ticks\": \"\"}}, \"type\": \"scatterpolar\"}], \"scatterpolargl\": [{\"marker\": {\"colorbar\": {\"outlinewidth\": 0, \"ticks\": \"\"}}, \"type\": \"scatterpolargl\"}], \"scatterternary\": [{\"marker\": {\"colorbar\": {\"outlinewidth\": 0, \"ticks\": \"\"}}, \"type\": \"scatterternary\"}], \"surface\": [{\"colorbar\": {\"outlinewidth\": 0, \"ticks\": \"\"}, \"colorscale\": [[0.0, \"#0d0887\"], [0.1111111111111111, \"#46039f\"], [0.2222222222222222, \"#7201a8\"], [0.3333333333333333, \"#9c179e\"], [0.4444444444444444, \"#bd3786\"], [0.5555555555555556, \"#d8576b\"], [0.6666666666666666, \"#ed7953\"], [0.7777777777777778, \"#fb9f3a\"], [0.8888888888888888, \"#fdca26\"], [1.0, \"#f0f921\"]], \"type\": \"surface\"}], \"table\": [{\"cells\": {\"fill\": {\"color\": \"#EBF0F8\"}, \"line\": {\"color\": \"white\"}}, \"header\": {\"fill\": {\"color\": \"#C8D4E3\"}, \"line\": {\"color\": \"white\"}}, \"type\": \"table\"}]}, \"layout\": {\"annotationdefaults\": {\"arrowcolor\": \"#2a3f5f\", \"arrowhead\": 0, \"arrowwidth\": 1}, \"coloraxis\": {\"colorbar\": {\"outlinewidth\": 0, \"ticks\": \"\"}}, \"colorscale\": {\"diverging\": [[0, \"#8e0152\"], [0.1, \"#c51b7d\"], [0.2, \"#de77ae\"], [0.3, \"#f1b6da\"], [0.4, \"#fde0ef\"], [0.5, \"#f7f7f7\"], [0.6, \"#e6f5d0\"], [0.7, \"#b8e186\"], [0.8, \"#7fbc41\"], [0.9, \"#4d9221\"], [1, \"#276419\"]], \"sequential\": [[0.0, \"#0d0887\"], [0.1111111111111111, \"#46039f\"], [0.2222222222222222, \"#7201a8\"], [0.3333333333333333, \"#9c179e\"], [0.4444444444444444, \"#bd3786\"], [0.5555555555555556, \"#d8576b\"], [0.6666666666666666, \"#ed7953\"], [0.7777777777777778, \"#fb9f3a\"], [0.8888888888888888, \"#fdca26\"], [1.0, \"#f0f921\"]], \"sequentialminus\": [[0.0, \"#0d0887\"], [0.1111111111111111, \"#46039f\"], [0.2222222222222222, \"#7201a8\"], [0.3333333333333333, \"#9c179e\"], [0.4444444444444444, \"#bd3786\"], [0.5555555555555556, \"#d8576b\"], [0.6666666666666666, \"#ed7953\"], [0.7777777777777778, \"#fb9f3a\"], [0.8888888888888888, \"#fdca26\"], [1.0, \"#f0f921\"]]}, \"colorway\": [\"#636efa\", \"#EF553B\", \"#00cc96\", \"#ab63fa\", \"#FFA15A\", \"#19d3f3\", \"#FF6692\", \"#B6E880\", \"#FF97FF\", \"#FECB52\"], \"font\": {\"color\": \"#2a3f5f\"}, \"geo\": {\"bgcolor\": \"white\", \"lakecolor\": \"white\", \"landcolor\": \"#E5ECF6\", \"showlakes\": true, \"showland\": true, \"subunitcolor\": \"white\"}, \"hoverlabel\": {\"align\": \"left\"}, \"hovermode\": \"closest\", \"mapbox\": {\"style\": \"light\"}, \"paper_bgcolor\": \"white\", \"plot_bgcolor\": \"#E5ECF6\", \"polar\": {\"angularaxis\": {\"gridcolor\": \"white\", \"linecolor\": \"white\", \"ticks\": \"\"}, \"bgcolor\": \"#E5ECF6\", \"radialaxis\": {\"gridcolor\": \"white\", \"linecolor\": \"white\", \"ticks\": \"\"}}, \"scene\": {\"xaxis\": {\"backgroundcolor\": \"#E5ECF6\", \"gridcolor\": \"white\", \"gridwidth\": 2, \"linecolor\": \"white\", \"showbackground\": true, \"ticks\": \"\", \"zerolinecolor\": \"white\"}, \"yaxis\": {\"backgroundcolor\": \"#E5ECF6\", \"gridcolor\": \"white\", \"gridwidth\": 2, \"linecolor\": \"white\", \"showbackground\": true, \"ticks\": \"\", \"zerolinecolor\": \"white\"}, \"zaxis\": {\"backgroundcolor\": \"#E5ECF6\", \"gridcolor\": \"white\", \"gridwidth\": 2, \"linecolor\": \"white\", \"showbackground\": true, \"ticks\": \"\", \"zerolinecolor\": \"white\"}}, \"shapedefaults\": {\"line\": {\"color\": \"#2a3f5f\"}}, \"ternary\": {\"aaxis\": {\"gridcolor\": \"white\", \"linecolor\": \"white\", \"ticks\": \"\"}, \"baxis\": {\"gridcolor\": \"white\", \"linecolor\": \"white\", \"ticks\": \"\"}, \"bgcolor\": \"#E5ECF6\", \"caxis\": {\"gridcolor\": \"white\", \"linecolor\": \"white\", \"ticks\": \"\"}}, \"title\": {\"x\": 0.05}, \"xaxis\": {\"automargin\": true, \"gridcolor\": \"white\", \"linecolor\": \"white\", \"ticks\": \"\", \"title\": {\"standoff\": 15}, \"zerolinecolor\": \"white\", \"zerolinewidth\": 2}, \"yaxis\": {\"automargin\": true, \"gridcolor\": \"white\", \"linecolor\": \"white\", \"ticks\": \"\", \"title\": {\"standoff\": 15}, \"zerolinecolor\": \"white\", \"zerolinewidth\": 2}}}, \"title\": {\"text\": \"Cart Pole Position\"}, \"width\": 1000},\n",
              "                        {\"responsive\": true}\n",
              "                    ).then(function(){\n",
              "                            \n",
              "var gd = document.getElementById('315a9375-1140-4cb9-9c22-b5ccbcb5b039');\n",
              "var x = new MutationObserver(function (mutations, observer) {{\n",
              "        var display = window.getComputedStyle(gd).display;\n",
              "        if (!display || display === 'none') {{\n",
              "            console.log([gd, 'removed!']);\n",
              "            Plotly.purge(gd);\n",
              "            observer.disconnect();\n",
              "        }}\n",
              "}});\n",
              "\n",
              "// Listen for the removal of the full notebook cells\n",
              "var notebookContainer = gd.closest('#notebook-container');\n",
              "if (notebookContainer) {{\n",
              "    x.observe(notebookContainer, {childList: true});\n",
              "}}\n",
              "\n",
              "// Listen for the clearing of the current output cell\n",
              "var outputEl = gd.closest('.output');\n",
              "if (outputEl) {{\n",
              "    x.observe(outputEl, {childList: true});\n",
              "}}\n",
              "\n",
              "                        })\n",
              "                };\n",
              "                \n",
              "            </script>\n",
              "        </div>\n",
              "</body>\n",
              "</html>"
            ]
          },
          "metadata": {
            "tags": []
          }
        }
      ]
    },
    {
      "cell_type": "code",
      "metadata": {
        "colab": {
          "base_uri": "https://localhost:8080/",
          "height": 717
        },
        "id": "e_JCA_YgYVdE",
        "outputId": "c28d4fe8-a6cb-4447-f452-1718383dc759"
      },
      "source": [
        "go.Figure(\n",
        "  data=[\n",
        "      go.Scatter(x=time,y=q2_vals,mode='lines+markers',name='Pole angle'),\n",
        "      go.Scatter(x=time,y=init_guess[:,1],mode='lines+markers',name='Guess')\n",
        "  ],\n",
        "  layout=go.Layout(width=1000, height=700, showlegend=True, title_text='Pole Angle Position', legend=dict(orientation='h'))\n",
        ").show()"
      ],
      "execution_count": null,
      "outputs": [
        {
          "output_type": "display_data",
          "data": {
            "text/html": [
              "<html>\n",
              "<head><meta charset=\"utf-8\" /></head>\n",
              "<body>\n",
              "    <div>\n",
              "            <script src=\"https://cdnjs.cloudflare.com/ajax/libs/mathjax/2.7.5/MathJax.js?config=TeX-AMS-MML_SVG\"></script><script type=\"text/javascript\">if (window.MathJax) {MathJax.Hub.Config({SVG: {font: \"STIX-Web\"}});}</script>\n",
              "                <script type=\"text/javascript\">window.PlotlyConfig = {MathJaxConfig: 'local'};</script>\n",
              "        <script src=\"https://cdn.plot.ly/plotly-latest.min.js\"></script>    \n",
              "            <div id=\"e394b773-783a-46ee-9cd0-74fdc4310884\" class=\"plotly-graph-div\" style=\"height:700px; width:1000px;\"></div>\n",
              "            <script type=\"text/javascript\">\n",
              "                \n",
              "                    window.PLOTLYENV=window.PLOTLYENV || {};\n",
              "                    \n",
              "                if (document.getElementById(\"e394b773-783a-46ee-9cd0-74fdc4310884\")) {\n",
              "                    Plotly.newPlot(\n",
              "                        'e394b773-783a-46ee-9cd0-74fdc4310884',\n",
              "                        [{\"mode\": \"lines+markers\", \"name\": \"Pole angle\", \"type\": \"scatter\", \"x\": [0.0, 0.125, 0.25, 0.375, 0.5, 0.625, 0.75, 0.875, 1.0, 1.125, 1.25, 1.375, 1.5, 1.625, 1.75, 1.875, 2.0, 2.125, 2.25, 2.375, 2.5, 2.625, 2.75, 2.875, 3.0, 3.125, 3.25, 3.375, 3.5, 3.625, 3.75, 3.875, 4.0, 4.125, 4.25, 4.375, 4.5, 4.625, 4.75, 4.875], \"y\": [2.0635814789468192e-32, -0.06492062167669518, -0.18505405865584454, -0.2856698817245579, -0.35677654589534624, -0.3934619896758281, -0.3880728052266143, -0.33454528100653574, -0.2308546033818715, -0.013924794645159035, 0.4730219760180417, 1.0905530377922406, 1.5501401018192609, 1.88286922162226, 2.157932991316303, 2.3923492608502013, 2.6005429198993597, 2.787919944634368, 2.9509181161317573, 3.0720804682678025, 3.149635893795938, 3.1848732938113358, 3.19567810973529, 3.193370183348615, 3.1853930065479985, 3.176246591706948, 3.168227729648278, 3.1626772666353102, 3.1602916154332097, 3.1615253449443297, 3.1667481904127324, 3.176251555830222, 3.19008803161713, 3.2078409941586656, 3.227823579379469, 3.2466768431219952, 3.256988195754834, 3.244751018781536, 3.1855863392220236, 3.141592653589793]}, {\"mode\": \"lines+markers\", \"name\": \"Guess\", \"type\": \"scatter\", \"x\": [0.0, 0.125, 0.25, 0.375, 0.5, 0.625, 0.75, 0.875, 1.0, 1.125, 1.25, 1.375, 1.5, 1.625, 1.75, 1.875, 2.0, 2.125, 2.25, 2.375, 2.5, 2.625, 2.75, 2.875, 3.0, 3.125, 3.25, 3.375, 3.5, 3.625, 3.75, 3.875, 4.0, 4.125, 4.25, 4.375, 4.5, 4.625, 4.75, 4.875], \"y\": [0.0, 0.07853981633974483, 0.15707963267948966, 0.23561944901923448, 0.3141592653589793, 0.39269908169872414, 0.47123889803846897, 0.5497787143782138, 0.6283185307179586, 0.7068583470577035, 0.7853981633974483, 0.8639379797371932, 0.9424777960769379, 1.0210176124166828, 1.0995574287564276, 1.1780972450961724, 1.2566370614359172, 1.335176877775662, 1.413716694115407, 1.4922565104551517, 1.5707963267948966, 1.6493361431346414, 1.7278759594743864, 1.8064157758141308, 1.8849555921538759, 1.9634954084936207, 2.0420352248333655, 2.1205750411731104, 2.199114857512855, 2.2776546738526, 2.356194490192345, 2.4347343065320897, 2.5132741228718345, 2.5918139392115793, 2.670353755551324, 2.748893571891069, 2.827433388230814, 2.9059732045705586, 2.9845130209103035, 3.0630528372500483]}],\n",
              "                        {\"height\": 700, \"legend\": {\"orientation\": \"h\"}, \"showlegend\": true, \"template\": {\"data\": {\"bar\": [{\"error_x\": {\"color\": \"#2a3f5f\"}, \"error_y\": {\"color\": \"#2a3f5f\"}, \"marker\": {\"line\": {\"color\": \"#E5ECF6\", \"width\": 0.5}}, \"type\": \"bar\"}], \"barpolar\": [{\"marker\": {\"line\": {\"color\": \"#E5ECF6\", \"width\": 0.5}}, \"type\": \"barpolar\"}], \"carpet\": [{\"aaxis\": {\"endlinecolor\": \"#2a3f5f\", \"gridcolor\": \"white\", \"linecolor\": \"white\", \"minorgridcolor\": \"white\", \"startlinecolor\": \"#2a3f5f\"}, \"baxis\": {\"endlinecolor\": \"#2a3f5f\", \"gridcolor\": \"white\", \"linecolor\": \"white\", \"minorgridcolor\": \"white\", \"startlinecolor\": \"#2a3f5f\"}, \"type\": \"carpet\"}], \"choropleth\": [{\"colorbar\": {\"outlinewidth\": 0, \"ticks\": \"\"}, \"type\": \"choropleth\"}], \"contour\": [{\"colorbar\": {\"outlinewidth\": 0, \"ticks\": \"\"}, \"colorscale\": [[0.0, \"#0d0887\"], [0.1111111111111111, \"#46039f\"], [0.2222222222222222, \"#7201a8\"], [0.3333333333333333, \"#9c179e\"], [0.4444444444444444, \"#bd3786\"], [0.5555555555555556, \"#d8576b\"], [0.6666666666666666, \"#ed7953\"], [0.7777777777777778, \"#fb9f3a\"], [0.8888888888888888, \"#fdca26\"], [1.0, \"#f0f921\"]], \"type\": \"contour\"}], \"contourcarpet\": [{\"colorbar\": {\"outlinewidth\": 0, \"ticks\": \"\"}, \"type\": \"contourcarpet\"}], \"heatmap\": [{\"colorbar\": {\"outlinewidth\": 0, \"ticks\": \"\"}, \"colorscale\": [[0.0, \"#0d0887\"], [0.1111111111111111, \"#46039f\"], [0.2222222222222222, \"#7201a8\"], [0.3333333333333333, \"#9c179e\"], [0.4444444444444444, \"#bd3786\"], [0.5555555555555556, \"#d8576b\"], [0.6666666666666666, \"#ed7953\"], [0.7777777777777778, \"#fb9f3a\"], [0.8888888888888888, \"#fdca26\"], [1.0, \"#f0f921\"]], \"type\": \"heatmap\"}], \"heatmapgl\": [{\"colorbar\": {\"outlinewidth\": 0, \"ticks\": \"\"}, \"colorscale\": [[0.0, \"#0d0887\"], [0.1111111111111111, \"#46039f\"], [0.2222222222222222, \"#7201a8\"], [0.3333333333333333, \"#9c179e\"], [0.4444444444444444, \"#bd3786\"], [0.5555555555555556, \"#d8576b\"], [0.6666666666666666, \"#ed7953\"], [0.7777777777777778, \"#fb9f3a\"], [0.8888888888888888, \"#fdca26\"], [1.0, \"#f0f921\"]], \"type\": \"heatmapgl\"}], \"histogram\": [{\"marker\": {\"colorbar\": {\"outlinewidth\": 0, \"ticks\": \"\"}}, \"type\": \"histogram\"}], \"histogram2d\": [{\"colorbar\": {\"outlinewidth\": 0, \"ticks\": \"\"}, \"colorscale\": [[0.0, \"#0d0887\"], [0.1111111111111111, \"#46039f\"], [0.2222222222222222, \"#7201a8\"], [0.3333333333333333, \"#9c179e\"], [0.4444444444444444, \"#bd3786\"], [0.5555555555555556, \"#d8576b\"], [0.6666666666666666, \"#ed7953\"], [0.7777777777777778, \"#fb9f3a\"], [0.8888888888888888, \"#fdca26\"], [1.0, \"#f0f921\"]], \"type\": \"histogram2d\"}], \"histogram2dcontour\": [{\"colorbar\": {\"outlinewidth\": 0, \"ticks\": \"\"}, \"colorscale\": [[0.0, \"#0d0887\"], [0.1111111111111111, \"#46039f\"], [0.2222222222222222, \"#7201a8\"], [0.3333333333333333, \"#9c179e\"], [0.4444444444444444, \"#bd3786\"], [0.5555555555555556, \"#d8576b\"], [0.6666666666666666, \"#ed7953\"], [0.7777777777777778, \"#fb9f3a\"], [0.8888888888888888, \"#fdca26\"], [1.0, \"#f0f921\"]], \"type\": \"histogram2dcontour\"}], \"mesh3d\": [{\"colorbar\": {\"outlinewidth\": 0, \"ticks\": \"\"}, \"type\": \"mesh3d\"}], \"parcoords\": [{\"line\": {\"colorbar\": {\"outlinewidth\": 0, \"ticks\": \"\"}}, \"type\": \"parcoords\"}], \"pie\": [{\"automargin\": true, \"type\": \"pie\"}], \"scatter\": [{\"marker\": {\"colorbar\": {\"outlinewidth\": 0, \"ticks\": \"\"}}, \"type\": \"scatter\"}], \"scatter3d\": [{\"line\": {\"colorbar\": {\"outlinewidth\": 0, \"ticks\": \"\"}}, \"marker\": {\"colorbar\": {\"outlinewidth\": 0, \"ticks\": \"\"}}, \"type\": \"scatter3d\"}], \"scattercarpet\": [{\"marker\": {\"colorbar\": {\"outlinewidth\": 0, \"ticks\": \"\"}}, \"type\": \"scattercarpet\"}], \"scattergeo\": [{\"marker\": {\"colorbar\": {\"outlinewidth\": 0, \"ticks\": \"\"}}, \"type\": \"scattergeo\"}], \"scattergl\": [{\"marker\": {\"colorbar\": {\"outlinewidth\": 0, \"ticks\": \"\"}}, \"type\": \"scattergl\"}], \"scattermapbox\": [{\"marker\": {\"colorbar\": {\"outlinewidth\": 0, \"ticks\": \"\"}}, \"type\": \"scattermapbox\"}], \"scatterpolar\": [{\"marker\": {\"colorbar\": {\"outlinewidth\": 0, \"ticks\": \"\"}}, \"type\": \"scatterpolar\"}], \"scatterpolargl\": [{\"marker\": {\"colorbar\": {\"outlinewidth\": 0, \"ticks\": \"\"}}, \"type\": \"scatterpolargl\"}], \"scatterternary\": [{\"marker\": {\"colorbar\": {\"outlinewidth\": 0, \"ticks\": \"\"}}, \"type\": \"scatterternary\"}], \"surface\": [{\"colorbar\": {\"outlinewidth\": 0, \"ticks\": \"\"}, \"colorscale\": [[0.0, \"#0d0887\"], [0.1111111111111111, \"#46039f\"], [0.2222222222222222, \"#7201a8\"], [0.3333333333333333, \"#9c179e\"], [0.4444444444444444, \"#bd3786\"], [0.5555555555555556, \"#d8576b\"], [0.6666666666666666, \"#ed7953\"], [0.7777777777777778, \"#fb9f3a\"], [0.8888888888888888, \"#fdca26\"], [1.0, \"#f0f921\"]], \"type\": \"surface\"}], \"table\": [{\"cells\": {\"fill\": {\"color\": \"#EBF0F8\"}, \"line\": {\"color\": \"white\"}}, \"header\": {\"fill\": {\"color\": \"#C8D4E3\"}, \"line\": {\"color\": \"white\"}}, \"type\": \"table\"}]}, \"layout\": {\"annotationdefaults\": {\"arrowcolor\": \"#2a3f5f\", \"arrowhead\": 0, \"arrowwidth\": 1}, \"coloraxis\": {\"colorbar\": {\"outlinewidth\": 0, \"ticks\": \"\"}}, \"colorscale\": {\"diverging\": [[0, \"#8e0152\"], [0.1, \"#c51b7d\"], [0.2, \"#de77ae\"], [0.3, \"#f1b6da\"], [0.4, \"#fde0ef\"], [0.5, \"#f7f7f7\"], [0.6, \"#e6f5d0\"], [0.7, \"#b8e186\"], [0.8, \"#7fbc41\"], [0.9, \"#4d9221\"], [1, \"#276419\"]], \"sequential\": [[0.0, \"#0d0887\"], [0.1111111111111111, \"#46039f\"], [0.2222222222222222, \"#7201a8\"], [0.3333333333333333, \"#9c179e\"], [0.4444444444444444, \"#bd3786\"], [0.5555555555555556, \"#d8576b\"], [0.6666666666666666, \"#ed7953\"], [0.7777777777777778, \"#fb9f3a\"], [0.8888888888888888, \"#fdca26\"], [1.0, \"#f0f921\"]], \"sequentialminus\": [[0.0, \"#0d0887\"], [0.1111111111111111, \"#46039f\"], [0.2222222222222222, \"#7201a8\"], [0.3333333333333333, \"#9c179e\"], [0.4444444444444444, \"#bd3786\"], [0.5555555555555556, \"#d8576b\"], [0.6666666666666666, \"#ed7953\"], [0.7777777777777778, \"#fb9f3a\"], [0.8888888888888888, \"#fdca26\"], [1.0, \"#f0f921\"]]}, \"colorway\": [\"#636efa\", \"#EF553B\", \"#00cc96\", \"#ab63fa\", \"#FFA15A\", \"#19d3f3\", \"#FF6692\", \"#B6E880\", \"#FF97FF\", \"#FECB52\"], \"font\": {\"color\": \"#2a3f5f\"}, \"geo\": {\"bgcolor\": \"white\", \"lakecolor\": \"white\", \"landcolor\": \"#E5ECF6\", \"showlakes\": true, \"showland\": true, \"subunitcolor\": \"white\"}, \"hoverlabel\": {\"align\": \"left\"}, \"hovermode\": \"closest\", \"mapbox\": {\"style\": \"light\"}, \"paper_bgcolor\": \"white\", \"plot_bgcolor\": \"#E5ECF6\", \"polar\": {\"angularaxis\": {\"gridcolor\": \"white\", \"linecolor\": \"white\", \"ticks\": \"\"}, \"bgcolor\": \"#E5ECF6\", \"radialaxis\": {\"gridcolor\": \"white\", \"linecolor\": \"white\", \"ticks\": \"\"}}, \"scene\": {\"xaxis\": {\"backgroundcolor\": \"#E5ECF6\", \"gridcolor\": \"white\", \"gridwidth\": 2, \"linecolor\": \"white\", \"showbackground\": true, \"ticks\": \"\", \"zerolinecolor\": \"white\"}, \"yaxis\": {\"backgroundcolor\": \"#E5ECF6\", \"gridcolor\": \"white\", \"gridwidth\": 2, \"linecolor\": \"white\", \"showbackground\": true, \"ticks\": \"\", \"zerolinecolor\": \"white\"}, \"zaxis\": {\"backgroundcolor\": \"#E5ECF6\", \"gridcolor\": \"white\", \"gridwidth\": 2, \"linecolor\": \"white\", \"showbackground\": true, \"ticks\": \"\", \"zerolinecolor\": \"white\"}}, \"shapedefaults\": {\"line\": {\"color\": \"#2a3f5f\"}}, \"ternary\": {\"aaxis\": {\"gridcolor\": \"white\", \"linecolor\": \"white\", \"ticks\": \"\"}, \"baxis\": {\"gridcolor\": \"white\", \"linecolor\": \"white\", \"ticks\": \"\"}, \"bgcolor\": \"#E5ECF6\", \"caxis\": {\"gridcolor\": \"white\", \"linecolor\": \"white\", \"ticks\": \"\"}}, \"title\": {\"x\": 0.05}, \"xaxis\": {\"automargin\": true, \"gridcolor\": \"white\", \"linecolor\": \"white\", \"ticks\": \"\", \"title\": {\"standoff\": 15}, \"zerolinecolor\": \"white\", \"zerolinewidth\": 2}, \"yaxis\": {\"automargin\": true, \"gridcolor\": \"white\", \"linecolor\": \"white\", \"ticks\": \"\", \"title\": {\"standoff\": 15}, \"zerolinecolor\": \"white\", \"zerolinewidth\": 2}}}, \"title\": {\"text\": \"Pole Angle Position\"}, \"width\": 1000},\n",
              "                        {\"responsive\": true}\n",
              "                    ).then(function(){\n",
              "                            \n",
              "var gd = document.getElementById('e394b773-783a-46ee-9cd0-74fdc4310884');\n",
              "var x = new MutationObserver(function (mutations, observer) {{\n",
              "        var display = window.getComputedStyle(gd).display;\n",
              "        if (!display || display === 'none') {{\n",
              "            console.log([gd, 'removed!']);\n",
              "            Plotly.purge(gd);\n",
              "            observer.disconnect();\n",
              "        }}\n",
              "}});\n",
              "\n",
              "// Listen for the removal of the full notebook cells\n",
              "var notebookContainer = gd.closest('#notebook-container');\n",
              "if (notebookContainer) {{\n",
              "    x.observe(notebookContainer, {childList: true});\n",
              "}}\n",
              "\n",
              "// Listen for the clearing of the current output cell\n",
              "var outputEl = gd.closest('.output');\n",
              "if (outputEl) {{\n",
              "    x.observe(outputEl, {childList: true});\n",
              "}}\n",
              "\n",
              "                        })\n",
              "                };\n",
              "                \n",
              "            </script>\n",
              "        </div>\n",
              "</body>\n",
              "</html>"
            ]
          },
          "metadata": {
            "tags": []
          }
        }
      ]
    },
    {
      "cell_type": "code",
      "metadata": {
        "colab": {
          "base_uri": "https://localhost:8080/",
          "height": 717
        },
        "id": "8g1kTK3DZyVf",
        "outputId": "fbd8021c-05af-49e8-ea43-874643da014b"
      },
      "source": [
        "go.Figure(\n",
        "  data=[\n",
        "        go.Scatter(x=time,y=u_vals,mode='lines+markers',name='Control torque')\n",
        "  ],\n",
        "  layout=go.Layout(width=1000, height=700, showlegend=True, title_text='Control torque', legend=dict(orientation='h'))\n",
        ").show()"
      ],
      "execution_count": null,
      "outputs": [
        {
          "output_type": "display_data",
          "data": {
            "text/html": [
              "<html>\n",
              "<head><meta charset=\"utf-8\" /></head>\n",
              "<body>\n",
              "    <div>\n",
              "            <script src=\"https://cdnjs.cloudflare.com/ajax/libs/mathjax/2.7.5/MathJax.js?config=TeX-AMS-MML_SVG\"></script><script type=\"text/javascript\">if (window.MathJax) {MathJax.Hub.Config({SVG: {font: \"STIX-Web\"}});}</script>\n",
              "                <script type=\"text/javascript\">window.PlotlyConfig = {MathJaxConfig: 'local'};</script>\n",
              "        <script src=\"https://cdn.plot.ly/plotly-latest.min.js\"></script>    \n",
              "            <div id=\"a699fb21-47d1-492c-981f-0a855e960df8\" class=\"plotly-graph-div\" style=\"height:700px; width:1000px;\"></div>\n",
              "            <script type=\"text/javascript\">\n",
              "                \n",
              "                    window.PLOTLYENV=window.PLOTLYENV || {};\n",
              "                    \n",
              "                if (document.getElementById(\"a699fb21-47d1-492c-981f-0a855e960df8\")) {\n",
              "                    Plotly.newPlot(\n",
              "                        'a699fb21-47d1-492c-981f-0a855e960df8',\n",
              "                        [{\"mode\": \"lines+markers\", \"name\": \"Control torque\", \"type\": \"scatter\", \"x\": [0.0, 0.125, 0.25, 0.375, 0.5, 0.625, 0.75, 0.875, 1.0, 1.125, 1.25, 1.375, 1.5, 1.625, 1.75, 1.875, 2.0, 2.125, 2.25, 2.375, 2.5, 2.625, 2.75, 2.875, 3.0, 3.125, 3.25, 3.375, 3.5, 3.625, 3.75, 3.875, 4.0, 4.125, 4.25, 4.375, 4.5, 4.625, 4.75, 4.875], \"y\": [7.063567466331755, -4.325795084189108, 5.612506940966489, -4.757409044963762, 7.216510459631846, -5.471412661062941, 6.909483650760234, -4.499439375472077, 4.781882288196942, -6.0941221878282255, -16.92598579002216, -1.2888010188509753, -10.425322294579514, 5.181658898872274, -4.575049915366147, 4.510839413206702, -2.4881928217902356, 2.979774118258941, -2.258407802346999, 1.9193071607590448, -2.622884933215045, 1.7416428496602823, -2.3621068892671415, 1.687011676143093, -1.9991264710795529, 1.601278056953129, -1.696068136284566, 1.4708360114037848, -1.4596566824073676, 1.2884806701346403, -1.2848989839030054, 1.0464630661057812, -1.1883406438130424, 0.7300259094994846, -1.204512646660392, 0.3224004781666113, -1.3531339605987471, -0.21264920606422574, -1.433301314303079, 2.966546034876569]}],\n",
              "                        {\"height\": 700, \"legend\": {\"orientation\": \"h\"}, \"showlegend\": true, \"template\": {\"data\": {\"bar\": [{\"error_x\": {\"color\": \"#2a3f5f\"}, \"error_y\": {\"color\": \"#2a3f5f\"}, \"marker\": {\"line\": {\"color\": \"#E5ECF6\", \"width\": 0.5}}, \"type\": \"bar\"}], \"barpolar\": [{\"marker\": {\"line\": {\"color\": \"#E5ECF6\", \"width\": 0.5}}, \"type\": \"barpolar\"}], \"carpet\": [{\"aaxis\": {\"endlinecolor\": \"#2a3f5f\", \"gridcolor\": \"white\", \"linecolor\": \"white\", \"minorgridcolor\": \"white\", \"startlinecolor\": \"#2a3f5f\"}, \"baxis\": {\"endlinecolor\": \"#2a3f5f\", \"gridcolor\": \"white\", \"linecolor\": \"white\", \"minorgridcolor\": \"white\", \"startlinecolor\": \"#2a3f5f\"}, \"type\": \"carpet\"}], \"choropleth\": [{\"colorbar\": {\"outlinewidth\": 0, \"ticks\": \"\"}, \"type\": \"choropleth\"}], \"contour\": [{\"colorbar\": {\"outlinewidth\": 0, \"ticks\": \"\"}, \"colorscale\": [[0.0, \"#0d0887\"], [0.1111111111111111, \"#46039f\"], [0.2222222222222222, \"#7201a8\"], [0.3333333333333333, \"#9c179e\"], [0.4444444444444444, \"#bd3786\"], [0.5555555555555556, \"#d8576b\"], [0.6666666666666666, \"#ed7953\"], [0.7777777777777778, \"#fb9f3a\"], [0.8888888888888888, \"#fdca26\"], [1.0, \"#f0f921\"]], \"type\": \"contour\"}], \"contourcarpet\": [{\"colorbar\": {\"outlinewidth\": 0, \"ticks\": \"\"}, \"type\": \"contourcarpet\"}], \"heatmap\": [{\"colorbar\": {\"outlinewidth\": 0, \"ticks\": \"\"}, \"colorscale\": [[0.0, \"#0d0887\"], [0.1111111111111111, \"#46039f\"], [0.2222222222222222, \"#7201a8\"], [0.3333333333333333, \"#9c179e\"], [0.4444444444444444, \"#bd3786\"], [0.5555555555555556, \"#d8576b\"], [0.6666666666666666, \"#ed7953\"], [0.7777777777777778, \"#fb9f3a\"], [0.8888888888888888, \"#fdca26\"], [1.0, \"#f0f921\"]], \"type\": \"heatmap\"}], \"heatmapgl\": [{\"colorbar\": {\"outlinewidth\": 0, \"ticks\": \"\"}, \"colorscale\": [[0.0, \"#0d0887\"], [0.1111111111111111, \"#46039f\"], [0.2222222222222222, \"#7201a8\"], [0.3333333333333333, \"#9c179e\"], [0.4444444444444444, \"#bd3786\"], [0.5555555555555556, \"#d8576b\"], [0.6666666666666666, \"#ed7953\"], [0.7777777777777778, \"#fb9f3a\"], [0.8888888888888888, \"#fdca26\"], [1.0, \"#f0f921\"]], \"type\": \"heatmapgl\"}], \"histogram\": [{\"marker\": {\"colorbar\": {\"outlinewidth\": 0, \"ticks\": \"\"}}, \"type\": \"histogram\"}], \"histogram2d\": [{\"colorbar\": {\"outlinewidth\": 0, \"ticks\": \"\"}, \"colorscale\": [[0.0, \"#0d0887\"], [0.1111111111111111, \"#46039f\"], [0.2222222222222222, \"#7201a8\"], [0.3333333333333333, \"#9c179e\"], [0.4444444444444444, \"#bd3786\"], [0.5555555555555556, \"#d8576b\"], [0.6666666666666666, \"#ed7953\"], [0.7777777777777778, \"#fb9f3a\"], [0.8888888888888888, \"#fdca26\"], [1.0, \"#f0f921\"]], \"type\": \"histogram2d\"}], \"histogram2dcontour\": [{\"colorbar\": {\"outlinewidth\": 0, \"ticks\": \"\"}, \"colorscale\": [[0.0, \"#0d0887\"], [0.1111111111111111, \"#46039f\"], [0.2222222222222222, \"#7201a8\"], [0.3333333333333333, \"#9c179e\"], [0.4444444444444444, \"#bd3786\"], [0.5555555555555556, \"#d8576b\"], [0.6666666666666666, \"#ed7953\"], [0.7777777777777778, \"#fb9f3a\"], [0.8888888888888888, \"#fdca26\"], [1.0, \"#f0f921\"]], \"type\": \"histogram2dcontour\"}], \"mesh3d\": [{\"colorbar\": {\"outlinewidth\": 0, \"ticks\": \"\"}, \"type\": \"mesh3d\"}], \"parcoords\": [{\"line\": {\"colorbar\": {\"outlinewidth\": 0, \"ticks\": \"\"}}, \"type\": \"parcoords\"}], \"pie\": [{\"automargin\": true, \"type\": \"pie\"}], \"scatter\": [{\"marker\": {\"colorbar\": {\"outlinewidth\": 0, \"ticks\": \"\"}}, \"type\": \"scatter\"}], \"scatter3d\": [{\"line\": {\"colorbar\": {\"outlinewidth\": 0, \"ticks\": \"\"}}, \"marker\": {\"colorbar\": {\"outlinewidth\": 0, \"ticks\": \"\"}}, \"type\": \"scatter3d\"}], \"scattercarpet\": [{\"marker\": {\"colorbar\": {\"outlinewidth\": 0, \"ticks\": \"\"}}, \"type\": \"scattercarpet\"}], \"scattergeo\": [{\"marker\": {\"colorbar\": {\"outlinewidth\": 0, \"ticks\": \"\"}}, \"type\": \"scattergeo\"}], \"scattergl\": [{\"marker\": {\"colorbar\": {\"outlinewidth\": 0, \"ticks\": \"\"}}, \"type\": \"scattergl\"}], \"scattermapbox\": [{\"marker\": {\"colorbar\": {\"outlinewidth\": 0, \"ticks\": \"\"}}, \"type\": \"scattermapbox\"}], \"scatterpolar\": [{\"marker\": {\"colorbar\": {\"outlinewidth\": 0, \"ticks\": \"\"}}, \"type\": \"scatterpolar\"}], \"scatterpolargl\": [{\"marker\": {\"colorbar\": {\"outlinewidth\": 0, \"ticks\": \"\"}}, \"type\": \"scatterpolargl\"}], \"scatterternary\": [{\"marker\": {\"colorbar\": {\"outlinewidth\": 0, \"ticks\": \"\"}}, \"type\": \"scatterternary\"}], \"surface\": [{\"colorbar\": {\"outlinewidth\": 0, \"ticks\": \"\"}, \"colorscale\": [[0.0, \"#0d0887\"], [0.1111111111111111, \"#46039f\"], [0.2222222222222222, \"#7201a8\"], [0.3333333333333333, \"#9c179e\"], [0.4444444444444444, \"#bd3786\"], [0.5555555555555556, \"#d8576b\"], [0.6666666666666666, \"#ed7953\"], [0.7777777777777778, \"#fb9f3a\"], [0.8888888888888888, \"#fdca26\"], [1.0, \"#f0f921\"]], \"type\": \"surface\"}], \"table\": [{\"cells\": {\"fill\": {\"color\": \"#EBF0F8\"}, \"line\": {\"color\": \"white\"}}, \"header\": {\"fill\": {\"color\": \"#C8D4E3\"}, \"line\": {\"color\": \"white\"}}, \"type\": \"table\"}]}, \"layout\": {\"annotationdefaults\": {\"arrowcolor\": \"#2a3f5f\", \"arrowhead\": 0, \"arrowwidth\": 1}, \"coloraxis\": {\"colorbar\": {\"outlinewidth\": 0, \"ticks\": \"\"}}, \"colorscale\": {\"diverging\": [[0, \"#8e0152\"], [0.1, \"#c51b7d\"], [0.2, \"#de77ae\"], [0.3, \"#f1b6da\"], [0.4, \"#fde0ef\"], [0.5, \"#f7f7f7\"], [0.6, \"#e6f5d0\"], [0.7, \"#b8e186\"], [0.8, \"#7fbc41\"], [0.9, \"#4d9221\"], [1, \"#276419\"]], \"sequential\": [[0.0, \"#0d0887\"], [0.1111111111111111, \"#46039f\"], [0.2222222222222222, \"#7201a8\"], [0.3333333333333333, \"#9c179e\"], [0.4444444444444444, \"#bd3786\"], [0.5555555555555556, \"#d8576b\"], [0.6666666666666666, \"#ed7953\"], [0.7777777777777778, \"#fb9f3a\"], [0.8888888888888888, \"#fdca26\"], [1.0, \"#f0f921\"]], \"sequentialminus\": [[0.0, \"#0d0887\"], [0.1111111111111111, \"#46039f\"], [0.2222222222222222, \"#7201a8\"], [0.3333333333333333, \"#9c179e\"], [0.4444444444444444, \"#bd3786\"], [0.5555555555555556, \"#d8576b\"], [0.6666666666666666, \"#ed7953\"], [0.7777777777777778, \"#fb9f3a\"], [0.8888888888888888, \"#fdca26\"], [1.0, \"#f0f921\"]]}, \"colorway\": [\"#636efa\", \"#EF553B\", \"#00cc96\", \"#ab63fa\", \"#FFA15A\", \"#19d3f3\", \"#FF6692\", \"#B6E880\", \"#FF97FF\", \"#FECB52\"], \"font\": {\"color\": \"#2a3f5f\"}, \"geo\": {\"bgcolor\": \"white\", \"lakecolor\": \"white\", \"landcolor\": \"#E5ECF6\", \"showlakes\": true, \"showland\": true, \"subunitcolor\": \"white\"}, \"hoverlabel\": {\"align\": \"left\"}, \"hovermode\": \"closest\", \"mapbox\": {\"style\": \"light\"}, \"paper_bgcolor\": \"white\", \"plot_bgcolor\": \"#E5ECF6\", \"polar\": {\"angularaxis\": {\"gridcolor\": \"white\", \"linecolor\": \"white\", \"ticks\": \"\"}, \"bgcolor\": \"#E5ECF6\", \"radialaxis\": {\"gridcolor\": \"white\", \"linecolor\": \"white\", \"ticks\": \"\"}}, \"scene\": {\"xaxis\": {\"backgroundcolor\": \"#E5ECF6\", \"gridcolor\": \"white\", \"gridwidth\": 2, \"linecolor\": \"white\", \"showbackground\": true, \"ticks\": \"\", \"zerolinecolor\": \"white\"}, \"yaxis\": {\"backgroundcolor\": \"#E5ECF6\", \"gridcolor\": \"white\", \"gridwidth\": 2, \"linecolor\": \"white\", \"showbackground\": true, \"ticks\": \"\", \"zerolinecolor\": \"white\"}, \"zaxis\": {\"backgroundcolor\": \"#E5ECF6\", \"gridcolor\": \"white\", \"gridwidth\": 2, \"linecolor\": \"white\", \"showbackground\": true, \"ticks\": \"\", \"zerolinecolor\": \"white\"}}, \"shapedefaults\": {\"line\": {\"color\": \"#2a3f5f\"}}, \"ternary\": {\"aaxis\": {\"gridcolor\": \"white\", \"linecolor\": \"white\", \"ticks\": \"\"}, \"baxis\": {\"gridcolor\": \"white\", \"linecolor\": \"white\", \"ticks\": \"\"}, \"bgcolor\": \"#E5ECF6\", \"caxis\": {\"gridcolor\": \"white\", \"linecolor\": \"white\", \"ticks\": \"\"}}, \"title\": {\"x\": 0.05}, \"xaxis\": {\"automargin\": true, \"gridcolor\": \"white\", \"linecolor\": \"white\", \"ticks\": \"\", \"title\": {\"standoff\": 15}, \"zerolinecolor\": \"white\", \"zerolinewidth\": 2}, \"yaxis\": {\"automargin\": true, \"gridcolor\": \"white\", \"linecolor\": \"white\", \"ticks\": \"\", \"title\": {\"standoff\": 15}, \"zerolinecolor\": \"white\", \"zerolinewidth\": 2}}}, \"title\": {\"text\": \"Control torque\"}, \"width\": 1000},\n",
              "                        {\"responsive\": true}\n",
              "                    ).then(function(){\n",
              "                            \n",
              "var gd = document.getElementById('a699fb21-47d1-492c-981f-0a855e960df8');\n",
              "var x = new MutationObserver(function (mutations, observer) {{\n",
              "        var display = window.getComputedStyle(gd).display;\n",
              "        if (!display || display === 'none') {{\n",
              "            console.log([gd, 'removed!']);\n",
              "            Plotly.purge(gd);\n",
              "            observer.disconnect();\n",
              "        }}\n",
              "}});\n",
              "\n",
              "// Listen for the removal of the full notebook cells\n",
              "var notebookContainer = gd.closest('#notebook-container');\n",
              "if (notebookContainer) {{\n",
              "    x.observe(notebookContainer, {childList: true});\n",
              "}}\n",
              "\n",
              "// Listen for the clearing of the current output cell\n",
              "var outputEl = gd.closest('.output');\n",
              "if (outputEl) {{\n",
              "    x.observe(outputEl, {childList: true});\n",
              "}}\n",
              "\n",
              "                        })\n",
              "                };\n",
              "                \n",
              "            </script>\n",
              "        </div>\n",
              "</body>\n",
              "</html>"
            ]
          },
          "metadata": {
            "tags": []
          }
        }
      ]
    },
    {
      "cell_type": "markdown",
      "metadata": {
        "id": "OfYCsZ4aLnkP"
      },
      "source": [
        "###<b>Interpolation</b>"
      ]
    },
    {
      "cell_type": "code",
      "metadata": {
        "id": "1BfEjVm3rtSC"
      },
      "source": [
        "from scipy import interpolate\n",
        "space = np.linspace(time[0],time[-1],500)"
      ],
      "execution_count": null,
      "outputs": []
    },
    {
      "cell_type": "code",
      "metadata": {
        "colab": {
          "base_uri": "https://localhost:8080/",
          "height": 717
        },
        "id": "8s9W4WQ_wZg2",
        "outputId": "88c42290-f042-49e3-8f96-2a5c8248ef59"
      },
      "source": [
        "cspline_u = interpolate.CubicSpline(time, u_vals, bc_type='clamped')\n",
        "go.Figure(\n",
        "  data=[\n",
        "    go.Scatter(x=time,y=u_vals,mode=\"markers\", name='Control Torque Grid Points'),\n",
        "    go.Scatter(x=space,y=cspline_u(space),mode=\"lines\", name='Interpolated Control Torque')\n",
        "  ],\n",
        "  layout=go.Layout(width=1000, height=700, showlegend=True, title_text='Control torque Interpolated', legend=dict(orientation='h'))\n",
        ").show()"
      ],
      "execution_count": null,
      "outputs": [
        {
          "output_type": "display_data",
          "data": {
            "text/html": [
              "<html>\n",
              "<head><meta charset=\"utf-8\" /></head>\n",
              "<body>\n",
              "    <div>\n",
              "            <script src=\"https://cdnjs.cloudflare.com/ajax/libs/mathjax/2.7.5/MathJax.js?config=TeX-AMS-MML_SVG\"></script><script type=\"text/javascript\">if (window.MathJax) {MathJax.Hub.Config({SVG: {font: \"STIX-Web\"}});}</script>\n",
              "                <script type=\"text/javascript\">window.PlotlyConfig = {MathJaxConfig: 'local'};</script>\n",
              "        <script src=\"https://cdn.plot.ly/plotly-latest.min.js\"></script>    \n",
              "            <div id=\"4f301e6d-b1d4-4d49-84be-b2e2e43f3035\" class=\"plotly-graph-div\" style=\"height:700px; width:1000px;\"></div>\n",
              "            <script type=\"text/javascript\">\n",
              "                \n",
              "                    window.PLOTLYENV=window.PLOTLYENV || {};\n",
              "                    \n",
              "                if (document.getElementById(\"4f301e6d-b1d4-4d49-84be-b2e2e43f3035\")) {\n",
              "                    Plotly.newPlot(\n",
              "                        '4f301e6d-b1d4-4d49-84be-b2e2e43f3035',\n",
              "                        [{\"mode\": \"markers\", \"name\": \"Control Torque Grid Points\", \"type\": \"scatter\", \"x\": [0.0, 0.125, 0.25, 0.375, 0.5, 0.625, 0.75, 0.875, 1.0, 1.125, 1.25, 1.375, 1.5, 1.625, 1.75, 1.875, 2.0, 2.125, 2.25, 2.375, 2.5, 2.625, 2.75, 2.875, 3.0, 3.125, 3.25, 3.375, 3.5, 3.625, 3.75, 3.875, 4.0, 4.125, 4.25, 4.375, 4.5, 4.625, 4.75, 4.875], \"y\": [7.063567466331755, -4.325795084189108, 5.612506940966489, -4.757409044963762, 7.216510459631846, -5.471412661062941, 6.909483650760234, -4.499439375472077, 4.781882288196942, -6.0941221878282255, -16.92598579002216, -1.2888010188509753, -10.425322294579514, 5.181658898872274, -4.575049915366147, 4.510839413206702, -2.4881928217902356, 2.979774118258941, -2.258407802346999, 1.9193071607590448, -2.622884933215045, 1.7416428496602823, -2.3621068892671415, 1.687011676143093, -1.9991264710795529, 1.601278056953129, -1.696068136284566, 1.4708360114037848, -1.4596566824073676, 1.2884806701346403, -1.2848989839030054, 1.0464630661057812, -1.1883406438130424, 0.7300259094994846, -1.204512646660392, 0.3224004781666113, -1.3531339605987471, -0.21264920606422574, -1.433301314303079, 2.966546034876569]}, {\"mode\": \"lines\", \"name\": \"Interpolated Control Torque\", \"type\": \"scatter\", \"x\": [0.0, 0.009769539078156312, 0.019539078156312624, 0.029308617234468936, 0.03907815631262525, 0.048847695390781556, 0.05861723446893787, 0.06838677354709419, 0.0781563126252505, 0.0879258517034068, 0.09769539078156311, 0.10746492985971944, 0.11723446893787574, 0.12700400801603207, 0.13677354709418837, 0.14654308617234468, 0.156312625250501, 0.1660821643286573, 0.1758517034068136, 0.18562124248496992, 0.19539078156312623, 0.20516032064128256, 0.21492985971943887, 0.22469939879759518, 0.2344689378757515, 0.2442384769539078, 0.25400801603206413, 0.26377755511022044, 0.27354709418837675, 0.28331663326653306, 0.29308617234468937, 0.3028557114228457, 0.312625250501002, 0.3223947895791583, 0.3321643286573146, 0.3419338677354709, 0.3517034068136272, 0.3614729458917835, 0.37124248496993983, 0.38101202404809614, 0.39078156312625245, 0.4005511022044088, 0.4103206412825651, 0.42009018036072143, 0.42985971943887774, 0.43962925851703405, 0.44939879759519036, 0.45916833667334667, 0.468937875751503, 0.4787074148296593, 0.4884769539078156, 0.4982464929859719, 0.5080160320641283, 0.5177855711422845, 0.5275551102204409, 0.5373246492985971, 0.5470941883767535, 0.5568637274549098, 0.5666332665330661, 0.5764028056112224, 0.5861723446893787, 0.595941883767535, 0.6057114228456913, 0.6154809619238476, 0.625250501002004, 0.6350200400801603, 0.6447895791583166, 0.654559118236473, 0.6643286573146292, 0.6740981963927856, 0.6838677354709418, 0.6936372745490982, 0.7034068136272544, 0.7131763527054108, 0.722945891783567, 0.7327154308617234, 0.7424849699398797, 0.752254509018036, 0.7620240480961923, 0.7717935871743486, 0.7815631262525049, 0.7913326653306613, 0.8011022044088176, 0.8108717434869739, 0.8206412825651302, 0.8304108216432865, 0.8401803607214429, 0.8499498997995991, 0.8597194388777555, 0.8694889779559117, 0.8792585170340681, 0.8890280561122244, 0.8987975951903807, 0.908567134268537, 0.9183366733466933, 0.9281062124248496, 0.937875751503006, 0.9476452905811623, 0.9574148296593186, 0.9671843687374749, 0.9769539078156312, 0.9867234468937875, 0.9964929859719438, 1.0062625250501, 1.0160320641282565, 1.0258016032064128, 1.035571142284569, 1.0453406813627253, 1.0551102204408818, 1.064879759519038, 1.0746492985971943, 1.0844188376753505, 1.094188376753507, 1.1039579158316633, 1.1137274549098195, 1.123496993987976, 1.1332665330661322, 1.1430360721442885, 1.1528056112224447, 1.1625751503006012, 1.1723446893787575, 1.1821142284569137, 1.19188376753507, 1.2016533066132264, 1.2114228456913827, 1.221192384769539, 1.2309619238476952, 1.2407314629258517, 1.250501002004008, 1.2602705410821642, 1.2700400801603207, 1.279809619238477, 1.2895791583166332, 1.2993486973947894, 1.309118236472946, 1.3188877755511021, 1.3286573146292584, 1.3384268537074147, 1.3481963927855711, 1.3579659318637274, 1.3677354709418836, 1.3775050100200399, 1.3872745490981964, 1.3970440881763526, 1.4068136272545089, 1.4165831663326653, 1.4263527054108216, 1.4361222444889779, 1.445891783567134, 1.4556613226452906, 1.4654308617234468, 1.475200400801603, 1.4849699398797593, 1.4947394789579158, 1.504509018036072, 1.5142785571142283, 1.5240480961923846, 1.533817635270541, 1.5435871743486973, 1.5533567134268536, 1.5631262525050098, 1.5728957915831663, 1.5826653306613225, 1.5924348697394788, 1.6022044088176353, 1.6119739478957915, 1.6217434869739478, 1.631513026052104, 1.6412825651302605, 1.6510521042084167, 1.660821643286573, 1.6705911823647293, 1.6803607214428857, 1.690130260521042, 1.6998997995991982, 1.7096693386773545, 1.719438877755511, 1.7292084168336672, 1.7389779559118235, 1.74874749498998, 1.7585170340681362, 1.7682865731462925, 1.7780561122244487, 1.7878256513026052, 1.7975951903807614, 1.8073647294589177, 1.817134268537074, 1.8269038076152304, 1.8366733466933867, 1.846442885771543, 1.8562124248496992, 1.8659819639278556, 1.875751503006012, 1.8855210420841682, 1.8952905811623246, 1.9050601202404809, 1.9148296593186371, 1.9245991983967934, 1.9343687374749499, 1.9441382765531061, 1.9539078156312624, 1.9636773547094186, 1.973446893787575, 1.9832164328657313, 1.9929859719438876, 2.002755511022044, 2.0125250501002, 2.0222945891783564, 2.032064128256513, 2.0418336673346693, 2.0516032064128256, 2.061372745490982, 2.071142284569138, 2.0809118236472943, 2.0906813627254506, 2.1004509018036073, 2.1102204408817635, 2.11998997995992, 2.129759519038076, 2.1395290581162323, 2.1492985971943885, 2.159068136272545, 2.168837675350701, 2.1786072144288577, 2.188376753507014, 2.1981462925851702, 2.2079158316633265, 2.2176853707414828, 2.227454909819639, 2.2372244488977953, 2.246993987975952, 2.256763527054108, 2.2665330661322645, 2.2763026052104207, 2.286072144288577, 2.295841683366733, 2.3056112224448895, 2.3153807615230457, 2.3251503006012024, 2.3349198396793587, 2.344689378757515, 2.354458917835671, 2.3642284569138274, 2.3739979959919837, 2.38376753507014, 2.3935370741482966, 2.403306613226453, 2.413076152304609, 2.4228456913827654, 2.4326152304609217, 2.442384769539078, 2.452154308617234, 2.4619238476953904, 2.471693386773547, 2.4814629258517034, 2.4912324649298596, 2.501002004008016, 2.510771543086172, 2.5205410821643284, 2.5303106212424846, 2.5400801603206413, 2.5498496993987976, 2.559619238476954, 2.56938877755511, 2.5791583166332663, 2.5889278557114226, 2.598697394789579, 2.608466933867735, 2.618236472945892, 2.628006012024048, 2.6377755511022043, 2.6475450901803605, 2.657314629258517, 2.667084168336673, 2.6768537074148293, 2.686623246492986, 2.6963927855711423, 2.7061623246492985, 2.7159318637274548, 2.725701402805611, 2.7354709418837673, 2.7452404809619235, 2.7550100200400798, 2.7647795591182365, 2.7745490981963927, 2.784318637274549, 2.7940881763527052, 2.8038577154308615, 2.8136272545090177, 2.823396793587174, 2.8331663326653307, 2.842935871743487, 2.852705410821643, 2.8624749498997994, 2.8722444889779557, 2.882014028056112, 2.891783567134268, 2.9015531062124245, 2.911322645290581, 2.9210921843687374, 2.9308617234468937, 2.94063126252505, 2.950400801603206, 2.9601703406813624, 2.9699398797595187, 2.9797094188376754, 2.9894789579158316, 2.999248496993988, 3.009018036072144, 3.0187875751503004, 3.0285571142284566, 3.038326653306613, 3.048096192384769, 3.057865731462926, 3.067635270541082, 3.0774048096192383, 3.0871743486973946, 3.096943887775551, 3.106713426853707, 3.1164829659318634, 3.1262525050100196, 3.1360220440881763, 3.1457915831663326, 3.155561122244489, 3.165330661322645, 3.1751002004008013, 3.1848697394789576, 3.194639278557114, 3.2044088176352705, 3.2141783567134268, 3.223947895791583, 3.2337174348697393, 3.2434869739478955, 3.253256513026052, 3.263026052104208, 3.2727955911823643, 3.282565130260521, 3.2923346693386772, 3.3021042084168335, 3.3118737474949898, 3.321643286573146, 3.3314128256513023, 3.3411823647294585, 3.350951903807615, 3.3607214428857715, 3.3704909819639277, 3.380260521042084, 3.39003006012024, 3.3997995991983965, 3.4095691382765527, 3.419338677354709, 3.4291082164328657, 3.438877755511022, 3.448647294589178, 3.4584168336673344, 3.4681863727454907, 3.477955911823647, 3.487725450901803, 3.49749498997996, 3.507264529058116, 3.5170340681362724, 3.5268036072144286, 3.536573146292585, 3.546342685370741, 3.5561122244488974, 3.5658817635270537, 3.5756513026052104, 3.5854208416833666, 3.595190380761523, 3.604959919839679, 3.6147294589178354, 3.6244989979959916, 3.634268537074148, 3.6440380761523046, 3.653807615230461, 3.663577154308617, 3.6733466933867733, 3.6831162324649296, 3.692885771543086, 3.702655310621242, 3.7124248496993983, 3.722194388777555, 3.7319639278557113, 3.7417334669338675, 3.751503006012024, 3.76127254509018, 3.7710420841683363, 3.7808116232464926, 3.7905811623246493, 3.8003507014028055, 3.8101202404809618, 3.819889779559118, 3.8296593186372743, 3.8394288577154305, 3.8491983967935868, 3.858967935871743, 3.8687374749498997, 3.878507014028056, 3.8882765531062122, 3.8980460921843685, 3.9078156312625247, 3.917585170340681, 3.9273547094188372, 3.937124248496994, 3.94689378757515, 3.9566633266533064, 3.9664328657314627, 3.976202404809619, 3.985971943887775, 3.9957414829659315, 4.005511022044088, 4.015280561122244, 4.0250501002004, 4.034819639278557, 4.044589178356713, 4.054358717434869, 4.064128256513026, 4.073897795591182, 4.083667334669339, 4.093436873747494, 4.103206412825651, 4.112975951903807, 4.122745490981964, 4.13251503006012, 4.142284569138276, 4.152054108216433, 4.161823647294589, 4.171593186372745, 4.181362725450901, 4.191132264529058, 4.2009018036072145, 4.21067134268537, 4.220440881763527, 4.230210420841683, 4.23997995991984, 4.249749498997995, 4.259519038076152, 4.269288577154309, 4.279058116232465, 4.288827655310621, 4.298597194388777, 4.308366733466934, 4.31813627254509, 4.327905811623246, 4.337675350701402, 4.347444889779559, 4.3572144288577155, 4.366983967935871, 4.376753507014028, 4.386523046092184, 4.3962925851703405, 4.406062124248496, 4.415831663326653, 4.42560120240481, 4.4353707414829655, 4.445140280561122, 4.454909819639278, 4.464679358717435, 4.4744488977955905, 4.484218436873747, 4.493987975951904, 4.50375751503006, 4.513527054108216, 4.523296593186372, 4.533066132264529, 4.542835671342685, 4.552605210420841, 4.562374749498998, 4.572144288577154, 4.581913827655311, 4.591683366733466, 4.601452905811623, 4.611222444889779, 4.620991983967936, 4.6307615230460915, 4.640531062124248, 4.650300601202405, 4.660070140280561, 4.669839679358717, 4.679609218436873, 4.68937875751503, 4.699148296593186, 4.708917835671342, 4.718687374749499, 4.728456913827655, 4.738226452905812, 4.747995991983967, 4.757765531062124, 4.76753507014028, 4.777304609218437, 4.787074148296593, 4.796843687374749, 4.806613226452906, 4.816382765531062, 4.826152304609218, 4.835921843687374, 4.845691382765531, 4.8554609218436875, 4.865230460921843, 4.875], \"y\": [7.063567466331755, 6.871209655525813, 6.335777005956481, 5.51973069189651, 4.485531887618648, 3.295641767395642, 2.0125215055002403, 0.6986322762051915, -0.583564746216755, -1.7716083874928525, -2.803037473350356, -3.615390829516512, -4.146207281718574, -4.3332033216322525, -4.14941175324741, -3.6455373243824196, -2.8826223732280494, -1.9217092379750684, -0.8238402568142476, 0.34994223206364383, 1.5385958904678358, 2.6810783802075617, 3.716347363092047, 4.583360500930523, 5.221075455532219, 5.568449888706368, 5.565862588444745, 5.205732415308992, 4.546281645823057, 3.649953953547756, 2.579193012043908, 1.3964424948723313, 0.1641460755938411, -1.0552525722307422, -2.199309775040601, -3.205581859274922, -4.011625151372879, -4.554995977773663, -4.77325066491645, -4.6089560367741464, -4.075266258551575, -3.2375151299258302, -2.162259716573469, -0.9160570841710352, 0.4345357016049243, 1.8229615750778656, 3.1826634705712387, 4.4470843224084975, 5.549667064913095, 6.423854632408489, 7.003089959218119, 7.220815979665456, 7.022968736413491, 6.441968775379425, 5.546823820480211, 4.406672367610382, 3.090652912664428, 1.6679039515368914, 0.20756398012225397, -1.2212285056849383, -2.5493350099902043, -3.707617036898995, -4.626936090516834, -5.238153674949174, -5.472131678337275, -5.2843087408644385, -4.721157257758243, -3.8502224340789373, -2.739049474886798, -1.455183585242059, -0.0661699702050087, 1.3604461651641255, 2.7571196158050535, 4.056305176657547, 5.190457642661315, 6.092031808756136, 6.693482469881719, 6.9275278946388, 6.765802387182745, 6.2596361549725525, 5.470117689207115, 4.4583354810852995, 3.2853780218059994, 2.0123338025681106, 0.7002913145704914, -0.5896609509879474, -1.7964345029083493, -2.858940849991802, -3.716091501039454, -4.306797964852397, -4.57149688324733, -4.49904049861924, -4.135520571296927, -3.530334299498448, -2.732878881441839, -1.7925515153451652, -0.7587493994264523, 0.3191302680962389, 1.39169028900485, 2.4095334650813536, 3.3232625981076804, 4.083480489865803, 4.640789942137657, 4.948818148041426, 4.999835602066807, 4.812805060441535, 4.407220410902265, 3.802575541185643, 3.0183643390282975, 2.0740806921669104, 0.9892184883381152, -0.21672838472144118, -1.5242660392751426, -2.9139005875862822, -4.366138141918239, -5.861484814534402, -7.379457793043387, -8.89325881834867, -10.373605803314204, -11.791210716854144, -13.116785527882536, -14.321042205313534, -15.37469271806125, -16.248449035039823, -16.913023125163328, -17.3391269573459, -17.49747250050166, -17.35877172354472, -16.893738623763134, -16.090553780008417, -14.997327093442728, -13.675011368390397, -12.184559409175687, -10.586924020122876, -8.94305800555621, -7.313914169800046, -5.760445317178626, -4.343604252016236, -3.124343778637126, -2.163616701365637, -1.5223758245260193, -1.261212368062912, -1.3996238487583004, -1.8786888094735696, -2.6306671116348657, -3.5878186166683568, -4.682403186000144, -5.8466806810563945, -7.012910963263255, -8.113353894046892, -9.080269334833407, -9.845917147048965, -10.34255719211971, -10.502449331471798, -10.26008040596157, -9.611746245723783, -8.622077957112863, -7.359243007337681, -5.891408863607197, -4.286742993130276, -2.613412863115819, -0.9395859407726856, 0.666570306690148, 2.1368884120638274, 3.4032009081394747, 4.397340327708143, 5.051139203560961, 5.302828435236429, 5.16501993571162, 4.698313368569143, 3.9641081932350293, 3.023803869135306, 1.938799855695977, 0.7704956123431188, -0.4197094014972578, -1.5704157263991307, -2.6202239029364858, -3.5077344716832517, -4.171547973213418, -4.5502649481009705, -4.594876589307588, -4.329449746576199, -3.804748043688056, -3.0715745108855255, -2.18073217841103, -1.1830240765069402, -0.1292532354156415, 0.9297773146204991, 1.9432645433590467, 2.860405420557644, 3.6303969159738987, 4.202435999365434, 4.525726662721201, 4.5687138119489346, 4.361027054771731, 3.944430414697959, 3.360687915235979, 2.6515635798941517, 1.8588214321808183, 1.0242254956043761, 0.18953979367317064, -0.6034716501044404, -1.3130448122201095, -1.89741566916544, -2.3148201974320948, -2.5237794525712385, -2.5084471885024526, -2.298588737749589, -1.928671202569623, -1.4331616852195825, -0.8465272879564483, -0.20323511303721498, 0.46224773728112334, 1.1154541607415727, 1.7219170550871397, 2.2471693180608527, 2.656743847405666, 2.9161735408646106, 2.9922283888957186, 2.881920510267857, 2.6135327480300856, 2.21679082928456, 1.7214204811334355, 1.15714743067884, 0.5536974050229828, -0.059203868732007336, -0.651830663483973, -1.1944572521307615, -1.6573579075702138, -2.010806902700181, -2.2250785104185073, -2.273572857894343, -2.1628438517562363, -1.9194139903220968, -1.5700801953300876, -1.1416393885183727, -0.660888491625116, -0.15462442638848128, 0.350355885453391, 0.8272555221622913, 1.249277562000076, 1.589625083228583, 1.821501164109649, 1.9181088829051127, 1.8589527572872708, 1.6578882699376458, 1.340418609070592, 0.9320563691306937, 0.4583141445625402, -0.05529547018927772, -0.5832598806801703, -1.1000664924655479, -1.5802027111008177, -1.9981559421414108, -2.328413591142695, -2.545463063660102, -2.6238008056719777, -2.549117990625536, -2.3401208514995386, -2.0215719983560403, -1.6182340412570737, -1.154869590264729, -0.6562412554410434, -0.14711164684806932, 0.3477566254521398, 0.8036009513975322, 1.195658720926053, 1.4991673239756471, 1.6893641504842734, 1.7417222105688506, 1.6488595639335144, 1.4318601331572165, 1.1144917019202747, 0.7205220539030059, 0.2737189727857273, -0.2021497577512661, -0.6833163540276128, -1.1460130323630167, -1.5664720090771613, -1.92092550048973, -2.1856057229204042, -2.3367448926888663, -2.351619649817959, -2.230141776484218, -1.9941136534705226, -1.6662331243322308, -1.2691980326247054, -0.8257062219033076, -0.35845553572339783, 0.10985618235966133, 0.5565310887905293, 0.9588713400138014, 1.2941790924741365, 1.5397565026161786, 1.6729057268845606, 1.6736557268745145, 1.548488033006167, 1.3187499343185491, 1.0059540522876045, 0.6316130083893214, 0.21723942409964614, -0.21565407910546197, -0.645554879750045, -1.0509503563581433, -1.4103278874537972, -1.7021748515610602, -1.9049786272039455, -1.9972265929065083, -1.962890299186216, -1.8135938374046936, -1.5696572660890666, -1.251403817477106, -0.8791567238065816, -0.4732392173152453, -0.053974530240904484, 0.3583141051786882, 0.7433034567057626, 1.080670292102547, 1.3500913791312739, 1.5312434855541692, 1.6038172424318098, 1.55689527727925, 1.4052684289637363, 1.168086600976847, 0.8644996968101597, 0.5136576199552527, 0.13471027390370371, -0.2531924378529091, -0.6309006118230254, -0.9792643445150304, -1.279133732437368, -1.5113588720984552, -1.6567898600067155, -1.696506121734673, -1.6253468267008566, -1.4594787472851087, -1.2169032883800608, -0.9156218548783798, -0.5736358516726998, -0.2089466836556656, 0.16044424428007908, 0.5165355272418899, 0.8413257603371238, 1.116813538673147, 1.3249974573572896, 1.4478761114969227, 1.4683555481923187, 1.3868770676314197, 1.219742537633508, 0.9838252826664701, 0.6959986271981919, 0.3731358956965442, 0.032110412629442586, -0.31020449753524004, -0.6369355103296184, -0.9312093012858056, -1.1761525459359166, -1.354891919812065, -1.4505540984463678, -1.4485019472682732, -1.3539833585708627, -1.1826665266539917, -0.9503113342794197, -0.6726776642089047, -0.3655253992042062, -0.04461442202708232, 0.27429538456072167, 0.575444137797418, 0.8430719549212622, 1.0614189531704947, 1.214725249783359, 1.2872309619980928, 1.2675050336208982, 1.1643161747681248, 0.9923203783121504, 0.7661743208086848, 0.5005346788134409, 0.21005812888213216, -0.09059865242952869, -0.38677898856582926, -0.663826202971056, -0.9070836190895069, -1.1018945603654444, -1.2336023502431699, -1.2875674450728272, -1.2563097142399189, -1.1505527396039392, -0.9838705902364839, -0.7698373352091403, -0.5220270435935251, -0.25401378446122636, 0.020628373116158616, 0.28832536006703346, 0.5355031073198002, 0.7485875458028626, 0.9140046064446246, 1.0181802201734902, 1.0477414230113322, 0.9994218812627645, 0.8845869759854753, 0.7157472293033348, 0.5054131633402132, 0.26609530021998123, 0.010304162066497313, -0.2494497289963441, -0.5006558508446843, -0.730803681354653, -0.9273826984023783, -1.0778823798639925, -1.1697922036156232, -1.1913197329002525, -1.1431074523271825, -1.036315827925321, -0.8824366511750266, -0.6929617135567033, -0.4793828065506939, -0.25319172163739323, -0.025880250297199425, 0.19105981598955135, 0.38613668574244353, 0.5478585674811334, 0.664733669725218, 0.7252702009943395, 0.7196464742764196, 0.6516805457521176, 0.531850848221703, 0.37068090730612374, 0.1786942486262771, -0.0335856021968759, -0.25563511954244733, -0.47693077778949045, -0.6869490513170593, -0.8751664145042652, -1.0310593417301472, -1.1441043073738082, -1.2037777858143017, -1.202666537644101, -1.146793644265069, -1.045809645099791, -0.9093651362533983, -0.7471107138310636, -0.5686969739379075, -0.3837745126791102, -0.20199392615978762, -0.03300581048512097, 0.11353923823977086, 0.2279906239097218, 0.3006977504195776, 0.32202798624753426, 0.28737480271415794, 0.20401233620883072, 0.08093094314033036, -0.07287902008260191, -0.24842719705119232, -0.436723231356659, -0.6287767665902726, -0.8155974463432353, -0.9881949142068178, -1.137578813772227, -1.254758788630724, -1.330744482373532, -1.3567168090928963, -1.3311623973721678, -1.262450868785002, -1.1596533688771755, -1.031841043194496, -0.88808503728273, -0.7374564966876785, -0.589026566955145, -0.45186639363089265, -0.3350471222607345, -0.24763989839043954, -0.19871586756581205, -0.19734617533263288, -0.2518657681917865, -0.3591336732838809, -0.5069332844015761, -0.6828001551724874, -0.8742698392242795, -1.068877890184552, -1.2541598616809728, -1.4176513073411434, -1.546887780792725, -1.6294048356633353, -1.6527380255806063, -1.604422904172174, -1.4719950250656835, -1.2455335004499084, -0.9342285825928269, -0.5559600834468812, -0.12865152957583367, 0.3297735524565364, 0.8013916360865765, 1.2682791947504675, 1.712512701884558, 2.1161686309250345, 2.4613234553082353, 2.7300536484703817, 2.904435683847728, 2.96654603487657]}],\n",
              "                        {\"height\": 700, \"legend\": {\"orientation\": \"h\"}, \"showlegend\": true, \"template\": {\"data\": {\"bar\": [{\"error_x\": {\"color\": \"#2a3f5f\"}, \"error_y\": {\"color\": \"#2a3f5f\"}, \"marker\": {\"line\": {\"color\": \"#E5ECF6\", \"width\": 0.5}}, \"type\": \"bar\"}], \"barpolar\": [{\"marker\": {\"line\": {\"color\": \"#E5ECF6\", \"width\": 0.5}}, \"type\": \"barpolar\"}], \"carpet\": [{\"aaxis\": {\"endlinecolor\": \"#2a3f5f\", \"gridcolor\": \"white\", \"linecolor\": \"white\", \"minorgridcolor\": \"white\", \"startlinecolor\": \"#2a3f5f\"}, \"baxis\": {\"endlinecolor\": \"#2a3f5f\", \"gridcolor\": \"white\", \"linecolor\": \"white\", \"minorgridcolor\": \"white\", \"startlinecolor\": \"#2a3f5f\"}, \"type\": \"carpet\"}], \"choropleth\": [{\"colorbar\": {\"outlinewidth\": 0, \"ticks\": \"\"}, \"type\": \"choropleth\"}], \"contour\": [{\"colorbar\": {\"outlinewidth\": 0, \"ticks\": \"\"}, \"colorscale\": [[0.0, \"#0d0887\"], [0.1111111111111111, \"#46039f\"], [0.2222222222222222, \"#7201a8\"], [0.3333333333333333, \"#9c179e\"], [0.4444444444444444, \"#bd3786\"], [0.5555555555555556, \"#d8576b\"], [0.6666666666666666, \"#ed7953\"], [0.7777777777777778, \"#fb9f3a\"], [0.8888888888888888, \"#fdca26\"], [1.0, \"#f0f921\"]], \"type\": \"contour\"}], \"contourcarpet\": [{\"colorbar\": {\"outlinewidth\": 0, \"ticks\": \"\"}, \"type\": \"contourcarpet\"}], \"heatmap\": [{\"colorbar\": {\"outlinewidth\": 0, \"ticks\": \"\"}, \"colorscale\": [[0.0, \"#0d0887\"], [0.1111111111111111, \"#46039f\"], [0.2222222222222222, \"#7201a8\"], [0.3333333333333333, \"#9c179e\"], [0.4444444444444444, \"#bd3786\"], [0.5555555555555556, \"#d8576b\"], [0.6666666666666666, \"#ed7953\"], [0.7777777777777778, \"#fb9f3a\"], [0.8888888888888888, \"#fdca26\"], [1.0, \"#f0f921\"]], \"type\": \"heatmap\"}], \"heatmapgl\": [{\"colorbar\": {\"outlinewidth\": 0, \"ticks\": \"\"}, \"colorscale\": [[0.0, \"#0d0887\"], [0.1111111111111111, \"#46039f\"], [0.2222222222222222, \"#7201a8\"], [0.3333333333333333, \"#9c179e\"], [0.4444444444444444, \"#bd3786\"], [0.5555555555555556, \"#d8576b\"], [0.6666666666666666, \"#ed7953\"], [0.7777777777777778, \"#fb9f3a\"], [0.8888888888888888, \"#fdca26\"], [1.0, \"#f0f921\"]], \"type\": \"heatmapgl\"}], \"histogram\": [{\"marker\": {\"colorbar\": {\"outlinewidth\": 0, \"ticks\": \"\"}}, \"type\": \"histogram\"}], \"histogram2d\": [{\"colorbar\": {\"outlinewidth\": 0, \"ticks\": \"\"}, \"colorscale\": [[0.0, \"#0d0887\"], [0.1111111111111111, \"#46039f\"], [0.2222222222222222, \"#7201a8\"], [0.3333333333333333, \"#9c179e\"], [0.4444444444444444, \"#bd3786\"], [0.5555555555555556, \"#d8576b\"], [0.6666666666666666, \"#ed7953\"], [0.7777777777777778, \"#fb9f3a\"], [0.8888888888888888, \"#fdca26\"], [1.0, \"#f0f921\"]], \"type\": \"histogram2d\"}], \"histogram2dcontour\": [{\"colorbar\": {\"outlinewidth\": 0, \"ticks\": \"\"}, \"colorscale\": [[0.0, \"#0d0887\"], [0.1111111111111111, \"#46039f\"], [0.2222222222222222, \"#7201a8\"], [0.3333333333333333, \"#9c179e\"], [0.4444444444444444, \"#bd3786\"], [0.5555555555555556, \"#d8576b\"], [0.6666666666666666, \"#ed7953\"], [0.7777777777777778, \"#fb9f3a\"], [0.8888888888888888, \"#fdca26\"], [1.0, \"#f0f921\"]], \"type\": \"histogram2dcontour\"}], \"mesh3d\": [{\"colorbar\": {\"outlinewidth\": 0, \"ticks\": \"\"}, \"type\": \"mesh3d\"}], \"parcoords\": [{\"line\": {\"colorbar\": {\"outlinewidth\": 0, \"ticks\": \"\"}}, \"type\": \"parcoords\"}], \"pie\": [{\"automargin\": true, \"type\": \"pie\"}], \"scatter\": [{\"marker\": {\"colorbar\": {\"outlinewidth\": 0, \"ticks\": \"\"}}, \"type\": \"scatter\"}], \"scatter3d\": [{\"line\": {\"colorbar\": {\"outlinewidth\": 0, \"ticks\": \"\"}}, \"marker\": {\"colorbar\": {\"outlinewidth\": 0, \"ticks\": \"\"}}, \"type\": \"scatter3d\"}], \"scattercarpet\": [{\"marker\": {\"colorbar\": {\"outlinewidth\": 0, \"ticks\": \"\"}}, \"type\": \"scattercarpet\"}], \"scattergeo\": [{\"marker\": {\"colorbar\": {\"outlinewidth\": 0, \"ticks\": \"\"}}, \"type\": \"scattergeo\"}], \"scattergl\": [{\"marker\": {\"colorbar\": {\"outlinewidth\": 0, \"ticks\": \"\"}}, \"type\": \"scattergl\"}], \"scattermapbox\": [{\"marker\": {\"colorbar\": {\"outlinewidth\": 0, \"ticks\": \"\"}}, \"type\": \"scattermapbox\"}], \"scatterpolar\": [{\"marker\": {\"colorbar\": {\"outlinewidth\": 0, \"ticks\": \"\"}}, \"type\": \"scatterpolar\"}], \"scatterpolargl\": [{\"marker\": {\"colorbar\": {\"outlinewidth\": 0, \"ticks\": \"\"}}, \"type\": \"scatterpolargl\"}], \"scatterternary\": [{\"marker\": {\"colorbar\": {\"outlinewidth\": 0, \"ticks\": \"\"}}, \"type\": \"scatterternary\"}], \"surface\": [{\"colorbar\": {\"outlinewidth\": 0, \"ticks\": \"\"}, \"colorscale\": [[0.0, \"#0d0887\"], [0.1111111111111111, \"#46039f\"], [0.2222222222222222, \"#7201a8\"], [0.3333333333333333, \"#9c179e\"], [0.4444444444444444, \"#bd3786\"], [0.5555555555555556, \"#d8576b\"], [0.6666666666666666, \"#ed7953\"], [0.7777777777777778, \"#fb9f3a\"], [0.8888888888888888, \"#fdca26\"], [1.0, \"#f0f921\"]], \"type\": \"surface\"}], \"table\": [{\"cells\": {\"fill\": {\"color\": \"#EBF0F8\"}, \"line\": {\"color\": \"white\"}}, \"header\": {\"fill\": {\"color\": \"#C8D4E3\"}, \"line\": {\"color\": \"white\"}}, \"type\": \"table\"}]}, \"layout\": {\"annotationdefaults\": {\"arrowcolor\": \"#2a3f5f\", \"arrowhead\": 0, \"arrowwidth\": 1}, \"coloraxis\": {\"colorbar\": {\"outlinewidth\": 0, \"ticks\": \"\"}}, \"colorscale\": {\"diverging\": [[0, \"#8e0152\"], [0.1, \"#c51b7d\"], [0.2, \"#de77ae\"], [0.3, \"#f1b6da\"], [0.4, \"#fde0ef\"], [0.5, \"#f7f7f7\"], [0.6, \"#e6f5d0\"], [0.7, \"#b8e186\"], [0.8, \"#7fbc41\"], [0.9, \"#4d9221\"], [1, \"#276419\"]], \"sequential\": [[0.0, \"#0d0887\"], [0.1111111111111111, \"#46039f\"], [0.2222222222222222, \"#7201a8\"], [0.3333333333333333, \"#9c179e\"], [0.4444444444444444, \"#bd3786\"], [0.5555555555555556, \"#d8576b\"], [0.6666666666666666, \"#ed7953\"], [0.7777777777777778, \"#fb9f3a\"], [0.8888888888888888, \"#fdca26\"], [1.0, \"#f0f921\"]], \"sequentialminus\": [[0.0, \"#0d0887\"], [0.1111111111111111, \"#46039f\"], [0.2222222222222222, \"#7201a8\"], [0.3333333333333333, \"#9c179e\"], [0.4444444444444444, \"#bd3786\"], [0.5555555555555556, \"#d8576b\"], [0.6666666666666666, \"#ed7953\"], [0.7777777777777778, \"#fb9f3a\"], [0.8888888888888888, \"#fdca26\"], [1.0, \"#f0f921\"]]}, \"colorway\": [\"#636efa\", \"#EF553B\", \"#00cc96\", \"#ab63fa\", \"#FFA15A\", \"#19d3f3\", \"#FF6692\", \"#B6E880\", \"#FF97FF\", \"#FECB52\"], \"font\": {\"color\": \"#2a3f5f\"}, \"geo\": {\"bgcolor\": \"white\", \"lakecolor\": \"white\", \"landcolor\": \"#E5ECF6\", \"showlakes\": true, \"showland\": true, \"subunitcolor\": \"white\"}, \"hoverlabel\": {\"align\": \"left\"}, \"hovermode\": \"closest\", \"mapbox\": {\"style\": \"light\"}, \"paper_bgcolor\": \"white\", \"plot_bgcolor\": \"#E5ECF6\", \"polar\": {\"angularaxis\": {\"gridcolor\": \"white\", \"linecolor\": \"white\", \"ticks\": \"\"}, \"bgcolor\": \"#E5ECF6\", \"radialaxis\": {\"gridcolor\": \"white\", \"linecolor\": \"white\", \"ticks\": \"\"}}, \"scene\": {\"xaxis\": {\"backgroundcolor\": \"#E5ECF6\", \"gridcolor\": \"white\", \"gridwidth\": 2, \"linecolor\": \"white\", \"showbackground\": true, \"ticks\": \"\", \"zerolinecolor\": \"white\"}, \"yaxis\": {\"backgroundcolor\": \"#E5ECF6\", \"gridcolor\": \"white\", \"gridwidth\": 2, \"linecolor\": \"white\", \"showbackground\": true, \"ticks\": \"\", \"zerolinecolor\": \"white\"}, \"zaxis\": {\"backgroundcolor\": \"#E5ECF6\", \"gridcolor\": \"white\", \"gridwidth\": 2, \"linecolor\": \"white\", \"showbackground\": true, \"ticks\": \"\", \"zerolinecolor\": \"white\"}}, \"shapedefaults\": {\"line\": {\"color\": \"#2a3f5f\"}}, \"ternary\": {\"aaxis\": {\"gridcolor\": \"white\", \"linecolor\": \"white\", \"ticks\": \"\"}, \"baxis\": {\"gridcolor\": \"white\", \"linecolor\": \"white\", \"ticks\": \"\"}, \"bgcolor\": \"#E5ECF6\", \"caxis\": {\"gridcolor\": \"white\", \"linecolor\": \"white\", \"ticks\": \"\"}}, \"title\": {\"x\": 0.05}, \"xaxis\": {\"automargin\": true, \"gridcolor\": \"white\", \"linecolor\": \"white\", \"ticks\": \"\", \"title\": {\"standoff\": 15}, \"zerolinecolor\": \"white\", \"zerolinewidth\": 2}, \"yaxis\": {\"automargin\": true, \"gridcolor\": \"white\", \"linecolor\": \"white\", \"ticks\": \"\", \"title\": {\"standoff\": 15}, \"zerolinecolor\": \"white\", \"zerolinewidth\": 2}}}, \"title\": {\"text\": \"Control torque Interpolated\"}, \"width\": 1000},\n",
              "                        {\"responsive\": true}\n",
              "                    ).then(function(){\n",
              "                            \n",
              "var gd = document.getElementById('4f301e6d-b1d4-4d49-84be-b2e2e43f3035');\n",
              "var x = new MutationObserver(function (mutations, observer) {{\n",
              "        var display = window.getComputedStyle(gd).display;\n",
              "        if (!display || display === 'none') {{\n",
              "            console.log([gd, 'removed!']);\n",
              "            Plotly.purge(gd);\n",
              "            observer.disconnect();\n",
              "        }}\n",
              "}});\n",
              "\n",
              "// Listen for the removal of the full notebook cells\n",
              "var notebookContainer = gd.closest('#notebook-container');\n",
              "if (notebookContainer) {{\n",
              "    x.observe(notebookContainer, {childList: true});\n",
              "}}\n",
              "\n",
              "// Listen for the clearing of the current output cell\n",
              "var outputEl = gd.closest('.output');\n",
              "if (outputEl) {{\n",
              "    x.observe(outputEl, {childList: true});\n",
              "}}\n",
              "\n",
              "                        })\n",
              "                };\n",
              "                \n",
              "            </script>\n",
              "        </div>\n",
              "</body>\n",
              "</html>"
            ]
          },
          "metadata": {
            "tags": []
          }
        }
      ]
    },
    {
      "cell_type": "code",
      "metadata": {
        "colab": {
          "base_uri": "https://localhost:8080/",
          "height": 717
        },
        "id": "T-8NkRyGyoOr",
        "outputId": "ca239509-8cf4-4003-ef8b-2810013510bd"
      },
      "source": [
        "cspline_q1 = interpolate.CubicSpline(time, q1_vals, bc_type='clamped')\n",
        "go.Figure(\n",
        "  data=[\n",
        "    go.Scatter(x=time,y=q1_vals,mode=\"markers\"),\n",
        "    go.Scatter(x=space,y=cspline_q1(space),mode=\"lines\")\n",
        "  ],\n",
        "  layout=go.Layout(width=1000, height=700, showlegend=False)\n",
        ").show()"
      ],
      "execution_count": null,
      "outputs": [
        {
          "output_type": "display_data",
          "data": {
            "text/html": [
              "<html>\n",
              "<head><meta charset=\"utf-8\" /></head>\n",
              "<body>\n",
              "    <div>\n",
              "            <script src=\"https://cdnjs.cloudflare.com/ajax/libs/mathjax/2.7.5/MathJax.js?config=TeX-AMS-MML_SVG\"></script><script type=\"text/javascript\">if (window.MathJax) {MathJax.Hub.Config({SVG: {font: \"STIX-Web\"}});}</script>\n",
              "                <script type=\"text/javascript\">window.PlotlyConfig = {MathJaxConfig: 'local'};</script>\n",
              "        <script src=\"https://cdn.plot.ly/plotly-latest.min.js\"></script>    \n",
              "            <div id=\"ac661e01-aff1-4883-a46c-5c8f3e296018\" class=\"plotly-graph-div\" style=\"height:700px; width:1000px;\"></div>\n",
              "            <script type=\"text/javascript\">\n",
              "                \n",
              "                    window.PLOTLYENV=window.PLOTLYENV || {};\n",
              "                    \n",
              "                if (document.getElementById(\"ac661e01-aff1-4883-a46c-5c8f3e296018\")) {\n",
              "                    Plotly.newPlot(\n",
              "                        'ac661e01-aff1-4883-a46c-5c8f3e296018',\n",
              "                        [{\"mode\": \"markers\", \"type\": \"scatter\", \"x\": [0.0, 0.125, 0.25, 0.375, 0.5, 0.625, 0.75, 0.875, 1.0, 1.125, 1.25, 1.375, 1.5, 1.625, 1.75, 1.875, 2.0, 2.125, 2.25, 2.375, 2.5, 2.625, 2.75, 2.875, 3.0, 3.125, 3.25, 3.375, 3.5, 3.625, 3.75, 3.875, 4.0, 4.125, 4.25, 4.375, 4.5, 4.625, 4.75, 4.875], \"y\": [-0.5, -0.46691794074763904, -0.40188450950185595, -0.33892467903596163, -0.2782709654835839, -0.2186654449507215, -0.16418524612783852, -0.11651322326155769, -0.0802912091378759, -0.09216217747345909, -0.24233841487074384, -0.4480790242625456, -0.5515587146977234, -0.5713693949379339, -0.5433640193356817, -0.4777102253171641, -0.38704169545509126, -0.2794246166379463, -0.16783919646441217, -0.06745792663918913, 0.01437025793812199, 0.07523052756914402, 0.12216839851525449, 0.16018593348644866, 0.19305290662584243, 0.22333387978270075, 0.25256833800117673, 0.2817867729680654, 0.3115799645890699, 0.34228295807970005, 0.3740169187988037, 0.4066877901664979, 0.43987904896464786, 0.47275769989066035, 0.5036726962424279, 0.5300553042247232, 0.5473991440881142, 0.548312144261295, 0.5214746544764648, 0.5]}, {\"mode\": \"lines\", \"type\": \"scatter\", \"x\": [0.0, 0.009769539078156312, 0.019539078156312624, 0.029308617234468936, 0.03907815631262525, 0.048847695390781556, 0.05861723446893787, 0.06838677354709419, 0.0781563126252505, 0.0879258517034068, 0.09769539078156311, 0.10746492985971944, 0.11723446893787574, 0.12700400801603207, 0.13677354709418837, 0.14654308617234468, 0.156312625250501, 0.1660821643286573, 0.1758517034068136, 0.18562124248496992, 0.19539078156312623, 0.20516032064128256, 0.21492985971943887, 0.22469939879759518, 0.2344689378757515, 0.2442384769539078, 0.25400801603206413, 0.26377755511022044, 0.27354709418837675, 0.28331663326653306, 0.29308617234468937, 0.3028557114228457, 0.312625250501002, 0.3223947895791583, 0.3321643286573146, 0.3419338677354709, 0.3517034068136272, 0.3614729458917835, 0.37124248496993983, 0.38101202404809614, 0.39078156312625245, 0.4005511022044088, 0.4103206412825651, 0.42009018036072143, 0.42985971943887774, 0.43962925851703405, 0.44939879759519036, 0.45916833667334667, 0.468937875751503, 0.4787074148296593, 0.4884769539078156, 0.4982464929859719, 0.5080160320641283, 0.5177855711422845, 0.5275551102204409, 0.5373246492985971, 0.5470941883767535, 0.5568637274549098, 0.5666332665330661, 0.5764028056112224, 0.5861723446893787, 0.595941883767535, 0.6057114228456913, 0.6154809619238476, 0.625250501002004, 0.6350200400801603, 0.6447895791583166, 0.654559118236473, 0.6643286573146292, 0.6740981963927856, 0.6838677354709418, 0.6936372745490982, 0.7034068136272544, 0.7131763527054108, 0.722945891783567, 0.7327154308617234, 0.7424849699398797, 0.752254509018036, 0.7620240480961923, 0.7717935871743486, 0.7815631262525049, 0.7913326653306613, 0.8011022044088176, 0.8108717434869739, 0.8206412825651302, 0.8304108216432865, 0.8401803607214429, 0.8499498997995991, 0.8597194388777555, 0.8694889779559117, 0.8792585170340681, 0.8890280561122244, 0.8987975951903807, 0.908567134268537, 0.9183366733466933, 0.9281062124248496, 0.937875751503006, 0.9476452905811623, 0.9574148296593186, 0.9671843687374749, 0.9769539078156312, 0.9867234468937875, 0.9964929859719438, 1.0062625250501, 1.0160320641282565, 1.0258016032064128, 1.035571142284569, 1.0453406813627253, 1.0551102204408818, 1.064879759519038, 1.0746492985971943, 1.0844188376753505, 1.094188376753507, 1.1039579158316633, 1.1137274549098195, 1.123496993987976, 1.1332665330661322, 1.1430360721442885, 1.1528056112224447, 1.1625751503006012, 1.1723446893787575, 1.1821142284569137, 1.19188376753507, 1.2016533066132264, 1.2114228456913827, 1.221192384769539, 1.2309619238476952, 1.2407314629258517, 1.250501002004008, 1.2602705410821642, 1.2700400801603207, 1.279809619238477, 1.2895791583166332, 1.2993486973947894, 1.309118236472946, 1.3188877755511021, 1.3286573146292584, 1.3384268537074147, 1.3481963927855711, 1.3579659318637274, 1.3677354709418836, 1.3775050100200399, 1.3872745490981964, 1.3970440881763526, 1.4068136272545089, 1.4165831663326653, 1.4263527054108216, 1.4361222444889779, 1.445891783567134, 1.4556613226452906, 1.4654308617234468, 1.475200400801603, 1.4849699398797593, 1.4947394789579158, 1.504509018036072, 1.5142785571142283, 1.5240480961923846, 1.533817635270541, 1.5435871743486973, 1.5533567134268536, 1.5631262525050098, 1.5728957915831663, 1.5826653306613225, 1.5924348697394788, 1.6022044088176353, 1.6119739478957915, 1.6217434869739478, 1.631513026052104, 1.6412825651302605, 1.6510521042084167, 1.660821643286573, 1.6705911823647293, 1.6803607214428857, 1.690130260521042, 1.6998997995991982, 1.7096693386773545, 1.719438877755511, 1.7292084168336672, 1.7389779559118235, 1.74874749498998, 1.7585170340681362, 1.7682865731462925, 1.7780561122244487, 1.7878256513026052, 1.7975951903807614, 1.8073647294589177, 1.817134268537074, 1.8269038076152304, 1.8366733466933867, 1.846442885771543, 1.8562124248496992, 1.8659819639278556, 1.875751503006012, 1.8855210420841682, 1.8952905811623246, 1.9050601202404809, 1.9148296593186371, 1.9245991983967934, 1.9343687374749499, 1.9441382765531061, 1.9539078156312624, 1.9636773547094186, 1.973446893787575, 1.9832164328657313, 1.9929859719438876, 2.002755511022044, 2.0125250501002, 2.0222945891783564, 2.032064128256513, 2.0418336673346693, 2.0516032064128256, 2.061372745490982, 2.071142284569138, 2.0809118236472943, 2.0906813627254506, 2.1004509018036073, 2.1102204408817635, 2.11998997995992, 2.129759519038076, 2.1395290581162323, 2.1492985971943885, 2.159068136272545, 2.168837675350701, 2.1786072144288577, 2.188376753507014, 2.1981462925851702, 2.2079158316633265, 2.2176853707414828, 2.227454909819639, 2.2372244488977953, 2.246993987975952, 2.256763527054108, 2.2665330661322645, 2.2763026052104207, 2.286072144288577, 2.295841683366733, 2.3056112224448895, 2.3153807615230457, 2.3251503006012024, 2.3349198396793587, 2.344689378757515, 2.354458917835671, 2.3642284569138274, 2.3739979959919837, 2.38376753507014, 2.3935370741482966, 2.403306613226453, 2.413076152304609, 2.4228456913827654, 2.4326152304609217, 2.442384769539078, 2.452154308617234, 2.4619238476953904, 2.471693386773547, 2.4814629258517034, 2.4912324649298596, 2.501002004008016, 2.510771543086172, 2.5205410821643284, 2.5303106212424846, 2.5400801603206413, 2.5498496993987976, 2.559619238476954, 2.56938877755511, 2.5791583166332663, 2.5889278557114226, 2.598697394789579, 2.608466933867735, 2.618236472945892, 2.628006012024048, 2.6377755511022043, 2.6475450901803605, 2.657314629258517, 2.667084168336673, 2.6768537074148293, 2.686623246492986, 2.6963927855711423, 2.7061623246492985, 2.7159318637274548, 2.725701402805611, 2.7354709418837673, 2.7452404809619235, 2.7550100200400798, 2.7647795591182365, 2.7745490981963927, 2.784318637274549, 2.7940881763527052, 2.8038577154308615, 2.8136272545090177, 2.823396793587174, 2.8331663326653307, 2.842935871743487, 2.852705410821643, 2.8624749498997994, 2.8722444889779557, 2.882014028056112, 2.891783567134268, 2.9015531062124245, 2.911322645290581, 2.9210921843687374, 2.9308617234468937, 2.94063126252505, 2.950400801603206, 2.9601703406813624, 2.9699398797595187, 2.9797094188376754, 2.9894789579158316, 2.999248496993988, 3.009018036072144, 3.0187875751503004, 3.0285571142284566, 3.038326653306613, 3.048096192384769, 3.057865731462926, 3.067635270541082, 3.0774048096192383, 3.0871743486973946, 3.096943887775551, 3.106713426853707, 3.1164829659318634, 3.1262525050100196, 3.1360220440881763, 3.1457915831663326, 3.155561122244489, 3.165330661322645, 3.1751002004008013, 3.1848697394789576, 3.194639278557114, 3.2044088176352705, 3.2141783567134268, 3.223947895791583, 3.2337174348697393, 3.2434869739478955, 3.253256513026052, 3.263026052104208, 3.2727955911823643, 3.282565130260521, 3.2923346693386772, 3.3021042084168335, 3.3118737474949898, 3.321643286573146, 3.3314128256513023, 3.3411823647294585, 3.350951903807615, 3.3607214428857715, 3.3704909819639277, 3.380260521042084, 3.39003006012024, 3.3997995991983965, 3.4095691382765527, 3.419338677354709, 3.4291082164328657, 3.438877755511022, 3.448647294589178, 3.4584168336673344, 3.4681863727454907, 3.477955911823647, 3.487725450901803, 3.49749498997996, 3.507264529058116, 3.5170340681362724, 3.5268036072144286, 3.536573146292585, 3.546342685370741, 3.5561122244488974, 3.5658817635270537, 3.5756513026052104, 3.5854208416833666, 3.595190380761523, 3.604959919839679, 3.6147294589178354, 3.6244989979959916, 3.634268537074148, 3.6440380761523046, 3.653807615230461, 3.663577154308617, 3.6733466933867733, 3.6831162324649296, 3.692885771543086, 3.702655310621242, 3.7124248496993983, 3.722194388777555, 3.7319639278557113, 3.7417334669338675, 3.751503006012024, 3.76127254509018, 3.7710420841683363, 3.7808116232464926, 3.7905811623246493, 3.8003507014028055, 3.8101202404809618, 3.819889779559118, 3.8296593186372743, 3.8394288577154305, 3.8491983967935868, 3.858967935871743, 3.8687374749498997, 3.878507014028056, 3.8882765531062122, 3.8980460921843685, 3.9078156312625247, 3.917585170340681, 3.9273547094188372, 3.937124248496994, 3.94689378757515, 3.9566633266533064, 3.9664328657314627, 3.976202404809619, 3.985971943887775, 3.9957414829659315, 4.005511022044088, 4.015280561122244, 4.0250501002004, 4.034819639278557, 4.044589178356713, 4.054358717434869, 4.064128256513026, 4.073897795591182, 4.083667334669339, 4.093436873747494, 4.103206412825651, 4.112975951903807, 4.122745490981964, 4.13251503006012, 4.142284569138276, 4.152054108216433, 4.161823647294589, 4.171593186372745, 4.181362725450901, 4.191132264529058, 4.2009018036072145, 4.21067134268537, 4.220440881763527, 4.230210420841683, 4.23997995991984, 4.249749498997995, 4.259519038076152, 4.269288577154309, 4.279058116232465, 4.288827655310621, 4.298597194388777, 4.308366733466934, 4.31813627254509, 4.327905811623246, 4.337675350701402, 4.347444889779559, 4.3572144288577155, 4.366983967935871, 4.376753507014028, 4.386523046092184, 4.3962925851703405, 4.406062124248496, 4.415831663326653, 4.42560120240481, 4.4353707414829655, 4.445140280561122, 4.454909819639278, 4.464679358717435, 4.4744488977955905, 4.484218436873747, 4.493987975951904, 4.50375751503006, 4.513527054108216, 4.523296593186372, 4.533066132264529, 4.542835671342685, 4.552605210420841, 4.562374749498998, 4.572144288577154, 4.581913827655311, 4.591683366733466, 4.601452905811623, 4.611222444889779, 4.620991983967936, 4.6307615230460915, 4.640531062124248, 4.650300601202405, 4.660070140280561, 4.669839679358717, 4.679609218436873, 4.68937875751503, 4.699148296593186, 4.708917835671342, 4.718687374749499, 4.728456913827655, 4.738226452905812, 4.747995991983967, 4.757765531062124, 4.76753507014028, 4.777304609218437, 4.787074148296593, 4.796843687374749, 4.806613226452906, 4.816382765531062, 4.826152304609218, 4.835921843687374, 4.845691382765531, 4.8554609218436875, 4.865230460921843, 4.875], \"y\": [-0.5, -0.4997460722288437, -0.4990018724947001, -0.4977937761665571, -0.4961481586134028, -0.49409139520422485, -0.4916498613080112, -0.4888499322937499, -0.48571798353042883, -0.4822803903870359, -0.478563528232559, -0.4745937724359861, -0.47039749836630507, -0.46600107060297735, -0.46142870899098104, -0.4566999164134881, -0.4518335679591729, -0.4468485387167096, -0.44176370377477264, -0.4365979382220363, -0.431370117147175, -0.4260991156388628, -0.4208038087857742, -0.4155030716765836, -0.4102157793999652, -0.40496080704459336, -0.39975676169746066, -0.39461243651972405, -0.3895242152001447, -0.384487685339481, -0.3794984345384915, -0.37455205039793454, -0.3696441205185685, -0.36477023250115176, -0.3599259739464427, -0.3551069324551998, -0.3503086956281815, -0.3455268510661461, -0.340756986369852, -0.3359948387915647, -0.33123825385761213, -0.32648663557446944, -0.3217394244846244, -0.31699606113056444, -0.3122559860547774, -0.30751863979975064, -0.30278346290797215, -0.2980498959219292, -0.2933173793841096, -0.28858535383700096, -0.283853259823091, -0.2791205378848671, -0.27438696059669915, -0.269654599049194, -0.26492649671783175, -0.2602057005536463, -0.25549525750767077, -0.2507982145309391, -0.24611761857448458, -0.24145651658934097, -0.23681795552654172, -0.23220498233712053, -0.22762064397211082, -0.22306798738254627, -0.2185500595110412, -0.2140693685057391, -0.20962642678793594, -0.2052212848011443, -0.20085399298887704, -0.19652460179464679, -0.1922331616619665, -0.18797972303434873, -0.1837643363553063, -0.17958705206835204, -0.1754479206169986, -0.1713469924447587, -0.16728431799514526, -0.16325995082768538, -0.1592744047487948, -0.15532913610158328, -0.15142571663710666, -0.14756571810642072, -0.14375071226058114, -0.13998227085064383, -0.1362619656276644, -0.1325913683426988, -0.12897205074680268, -0.1254055845910319, -0.12189354162644213, -0.11843749360408926, -0.11503908663891255, -0.11170232753967092, -0.10843401405388282, -0.10524110509874561, -0.1021305595914565, -0.09910933644921288, -0.096184394589212, -0.09336269292865117, -0.09065119038472774, -0.08805684587463894, -0.08558661831558215, -0.08324746662475459, -0.08104634971935366, -0.07899323796026439, -0.07713657957484278, -0.07555140078058838, -0.0743132566526953, -0.07349770226635766, -0.07318029269676965, -0.07343658301912544, -0.07434212830861914, -0.07597248364044493, -0.07840320408979701, -0.08170984473186944, -0.08596796064185638, -0.09125310689495218, -0.09762808346203697, -0.1050742339753989, -0.11354086576851241, -0.12297720951006298, -0.13333249586873544, -0.1445559555132152, -0.15659681911218748, -0.16940431733433786, -0.18292768084835095, -0.1971161403229123, -0.21191892642670707, -0.22728526982842095, -0.24316439987694144, -0.25949418098479904, -0.2761734835042618, -0.2930928213283458, -0.31014270835006813, -0.3272136584624454, -0.34419618555849474, -0.36098080353123196, -0.37745802627367425, -0.39351836767883824, -0.40905234163974097, -0.42395046204939846, -0.4381032428008277, -0.451401608321425, -0.46378313986030256, -0.47527445372069776, -0.48591217872883447, -0.49573294371093674, -0.5047733774932277, -0.5130701089019314, -0.5206597667632717, -0.5275789799034724, -0.5338643771487567, -0.5395525873253486, -0.5446802392594718, -0.5492839617773504, -0.5534000493957597, -0.5570555179965699, -0.5602671251143349, -0.5630510974125876, -0.5654236615548606, -0.5674010442046868, -0.5689994720255988, -0.5702351716811296, -0.5711243698348116, -0.571683293150178, -0.5719281682907612, -0.5718752219200942, -0.5715406807017097, -0.5709400274655, -0.5700800979752858, -0.5689621492425847, -0.5675873452997082, -0.5659568501789688, -0.5640718279126782, -0.5619334425331484, -0.5595428580726916, -0.5569012385636195, -0.5540097480382443, -0.5508695505288781, -0.5474818100678328, -0.5438476906874203, -0.5399691380529683, -0.5358527076230717, -0.5315066389548976, -0.5269391740914706, -0.5221585550758147, -0.5171730239509542, -0.5119908227599136, -0.5066201935457167, -0.5010693783513885, -0.4953466192199527, -0.48946015819443367, -0.4834182373178555, -0.4772290981640036, -0.470899696590865, -0.4644328999740385, -0.4578307648435402, -0.45109534772938525, -0.4442287051615895, -0.43723289367016843, -0.43010996978513794, -0.4228619900365135, -0.4154910109543107, -0.40799908906854504, -0.40038828090923245, -0.3926606430063885, -0.3848182490199956, -0.37686471283988543, -0.3688063890862566, -0.36064991490149784, -0.352401927427999, -0.3440690638081487, -0.33565796118433616, -0.3271752566989503, -0.3186275874943803, -0.31002159071301516, -0.3013639034972435, -0.2926611629894554, -0.28392000633203923, -0.2751471080367889, -0.2663500561527913, -0.25753738333767784, -0.24871766583491461, -0.23989947988796742, -0.2310914017403018, -0.22230200763538435, -0.2135398738166806, -0.2048135765276564, -0.19613169201177763, -0.18750279651251023, -0.17893546627332, -0.1704382775376725, -0.16201947156425314, -0.15368373665930696, -0.14543362117828917, -0.1372716440678401, -0.12920032427460018, -0.12122218074520986, -0.11333973242630947, -0.1055554982645391, -0.09787199720653982, -0.09029174819895167, -0.08281727018841505, -0.07545108212157038, -0.06819570294505801, -0.06105363712399898, -0.054027310180571844, -0.047119120869028606, -0.04033146792200355, -0.03366675007213131, -0.027127366052046485, -0.02071571459438369, -0.014434194431777552, -0.008285204296862686, -0.0022711429222734207, 0.003605590959355064, 0.009342598615388433, 0.014937482678990064, 0.02038953704670517, 0.02570304342397295, 0.030883198494182366, 0.03593519894072261, 0.040864241446982176, 0.045675522696350265, 0.05037423937221585, 0.05496558815796787, 0.05945476573699531, 0.06384696879268711, 0.06814739400843224, 0.07236123806761985, 0.07649368113145473, 0.08054870111411092, 0.08452827984343086, 0.08843421094925699, 0.09226828806143177, 0.09603230480979763, 0.09972805482419718, 0.10335733173447256, 0.10692192917046639, 0.1104236407620211, 0.11386426013897914, 0.11724558093118301, 0.12056939676847506, 0.12383750495345335, 0.12705178238605058, 0.13021418294531817, 0.13332666365923676, 0.13639118155578675, 0.13940969366294864, 0.14238415700870283, 0.14531652862102978, 0.1482087655279101, 0.151062824757324, 0.15388066333725203, 0.1566642382956747, 0.15941550666057233, 0.162136377327431, 0.1648282922613719, 0.16749243102297873, 0.1701299702544518, 0.1727420865979912, 0.17532995669579732, 0.17789475719007047, 0.18043766472301093, 0.182959855936819, 0.18546250747369494, 0.18794679597583921, 0.1904138980854518, 0.19286499044473315, 0.1953011849197716, 0.19772326675960467, 0.20013191850114806, 0.20252782264383112, 0.2049116616870833, 0.20728411813033415, 0.20964587447301283, 0.21199761321454894, 0.21434001685437182, 0.21667376789191098, 0.2189995488265958, 0.22131804215785572, 0.22362993032213468, 0.2259358530850073, 0.22823633341135077, 0.23053187446140583, 0.23282297939541316, 0.2351101513736135, 0.23739389355624743, 0.23967470910355573, 0.24195310117577914, 0.24422957293315817, 0.24650462753593352, 0.2487787681443459, 0.25105249791863604, 0.2533263184974776, 0.2556006402255279, 0.25787573194171876, 0.2601518503124465, 0.26242925200410694, 0.26470819368309667, 0.26698893201581186, 0.2692717236686487, 0.2715568253080034, 0.27384449360027235, 0.27613498521185176, 0.2784285568091376, 0.28072546505852636, 0.28302596417466946, 0.2853302609956485, 0.2876385195076229, 0.2899509021527965, 0.292267571373373, 0.2945886896115562, 0.29691441930954976, 0.29924492290955756, 0.30158036285378315, 0.30392090158443047, 0.30626670154370317, 0.308617925173805, 0.3109747349169399, 0.31333728573565134, 0.3157056660805827, 0.31807992954830877, 0.3204601294287226, 0.3228463190117172, 0.3252385515871857, 0.3276368804450209, 0.33004135887511615, 0.33245204016736424, 0.33486897761165824, 0.33729222449789126, 0.3397218341159564, 0.34215785975574653, 0.3446003430630008, 0.34704927134790464, 0.3495046160843823, 0.35196634874451926, 0.3544344408004008, 0.3569088637241126, 0.3593895889877398, 0.36187658806336787, 0.3643698324230822, 0.36686929353896836, 0.3693749428831114, 0.3718867519275969, 0.3744046920352267, 0.3769286889019191, 0.3794585521097701, 0.381994073058817, 0.3845350431490973, 0.38708125378064806, 0.38963249635350683, 0.3921885622677109, 0.3947492429232975, 0.3973143297203042, 0.3998836140587682, 0.4024568873387268, 0.4050339409602176, 0.40761456538586555, 0.4101985039682169, 0.41278543185694283, 0.41537501886386335, 0.41796693480079855, 0.42056084947956873, 0.4231564327119941, 0.4257533543098944, 0.42835128408509004, 0.43094989184940113, 0.4335488474146478, 0.43614782059265017, 0.4387464811952283, 0.4413444832813901, 0.4439412081222665, 0.4465358062534862, 0.4491274209423123, 0.4517151954560067, 0.45429827306183246, 0.45687579702705194, 0.4594469106189274, 0.4620107571047218, 0.4645664797516972, 0.4671132218271166, 0.4696501265982421, 0.4721763373323366, 0.4746909885337515, 0.4771931431401437, 0.47968182914268176, 0.48215607429593466, 0.48461490635447235, 0.4870573530728638, 0.48948244220567894, 0.49188920150748705, 0.4942766587328573, 0.4966438416363597, 0.49898977797256316, 0.5013134954960378, 0.5036140219613524, 0.5058901322675048, 0.5081395089868221, 0.51035953979177, 0.5125476123502062, 0.5147011143299886, 0.5168174333989748, 0.5188939572250225, 0.5209280734759897, 0.5229171698197338, 0.5248586339241129, 0.5267498534569844, 0.5285882160862061, 0.5303711105643385, 0.532096229120274, 0.5337619813380376, 0.5353668804271016, 0.5369094395969384, 0.5383881720570204, 0.53980159101682, 0.5411482096858098, 0.5424265412734618, 0.5436350989892488, 0.5447723960426432, 0.5458369456431171, 0.5468272610001433, 0.5477417498001195, 0.548574318537178, 0.5493127846019604, 0.5499445331625955, 0.5504569493872117, 0.5508374184439375, 0.5510733255009015, 0.5511520557262322, 0.551060994288058, 0.5507875263545078, 0.5503190370937098, 0.5496429116737929, 0.5487465352628851, 0.5476183916128153, 0.5462640892707206, 0.5447027797826478, 0.5429539845309909, 0.5410372248981432, 0.5389720222664991, 0.536777898018452, 0.534474373536396, 0.5320809702027248, 0.5296172093998321, 0.527102612510112, 0.524556700915958, 0.5219989959997643, 0.5194498444420672, 0.5169357938376109, 0.5144862112473703, 0.5121304779162233, 0.5098979750890485, 0.5078180840107234, 0.5059201859261263, 0.5042336620801351, 0.5027878937176279, 0.5016122620834828, 0.5007361484225776, 0.5001889339797908, 0.5]}],\n",
              "                        {\"height\": 700, \"showlegend\": false, \"template\": {\"data\": {\"bar\": [{\"error_x\": {\"color\": \"#2a3f5f\"}, \"error_y\": {\"color\": \"#2a3f5f\"}, \"marker\": {\"line\": {\"color\": \"#E5ECF6\", \"width\": 0.5}}, \"type\": \"bar\"}], \"barpolar\": [{\"marker\": {\"line\": {\"color\": \"#E5ECF6\", \"width\": 0.5}}, \"type\": \"barpolar\"}], \"carpet\": [{\"aaxis\": {\"endlinecolor\": \"#2a3f5f\", \"gridcolor\": \"white\", \"linecolor\": \"white\", \"minorgridcolor\": \"white\", \"startlinecolor\": \"#2a3f5f\"}, \"baxis\": {\"endlinecolor\": \"#2a3f5f\", \"gridcolor\": \"white\", \"linecolor\": \"white\", \"minorgridcolor\": \"white\", \"startlinecolor\": \"#2a3f5f\"}, \"type\": \"carpet\"}], \"choropleth\": [{\"colorbar\": {\"outlinewidth\": 0, \"ticks\": \"\"}, \"type\": \"choropleth\"}], \"contour\": [{\"colorbar\": {\"outlinewidth\": 0, \"ticks\": \"\"}, \"colorscale\": [[0.0, \"#0d0887\"], [0.1111111111111111, \"#46039f\"], [0.2222222222222222, \"#7201a8\"], [0.3333333333333333, \"#9c179e\"], [0.4444444444444444, \"#bd3786\"], [0.5555555555555556, \"#d8576b\"], [0.6666666666666666, \"#ed7953\"], [0.7777777777777778, \"#fb9f3a\"], [0.8888888888888888, \"#fdca26\"], [1.0, \"#f0f921\"]], \"type\": \"contour\"}], \"contourcarpet\": [{\"colorbar\": {\"outlinewidth\": 0, \"ticks\": \"\"}, \"type\": \"contourcarpet\"}], \"heatmap\": [{\"colorbar\": {\"outlinewidth\": 0, \"ticks\": \"\"}, \"colorscale\": [[0.0, \"#0d0887\"], [0.1111111111111111, \"#46039f\"], [0.2222222222222222, \"#7201a8\"], [0.3333333333333333, \"#9c179e\"], [0.4444444444444444, \"#bd3786\"], [0.5555555555555556, \"#d8576b\"], [0.6666666666666666, \"#ed7953\"], [0.7777777777777778, \"#fb9f3a\"], [0.8888888888888888, \"#fdca26\"], [1.0, \"#f0f921\"]], \"type\": \"heatmap\"}], \"heatmapgl\": [{\"colorbar\": {\"outlinewidth\": 0, \"ticks\": \"\"}, \"colorscale\": [[0.0, \"#0d0887\"], [0.1111111111111111, \"#46039f\"], [0.2222222222222222, \"#7201a8\"], [0.3333333333333333, \"#9c179e\"], [0.4444444444444444, \"#bd3786\"], [0.5555555555555556, \"#d8576b\"], [0.6666666666666666, \"#ed7953\"], [0.7777777777777778, \"#fb9f3a\"], [0.8888888888888888, \"#fdca26\"], [1.0, \"#f0f921\"]], \"type\": \"heatmapgl\"}], \"histogram\": [{\"marker\": {\"colorbar\": {\"outlinewidth\": 0, \"ticks\": \"\"}}, \"type\": \"histogram\"}], \"histogram2d\": [{\"colorbar\": {\"outlinewidth\": 0, \"ticks\": \"\"}, \"colorscale\": [[0.0, \"#0d0887\"], [0.1111111111111111, \"#46039f\"], [0.2222222222222222, \"#7201a8\"], [0.3333333333333333, \"#9c179e\"], [0.4444444444444444, \"#bd3786\"], [0.5555555555555556, \"#d8576b\"], [0.6666666666666666, \"#ed7953\"], [0.7777777777777778, \"#fb9f3a\"], [0.8888888888888888, \"#fdca26\"], [1.0, \"#f0f921\"]], \"type\": \"histogram2d\"}], \"histogram2dcontour\": [{\"colorbar\": {\"outlinewidth\": 0, \"ticks\": \"\"}, \"colorscale\": [[0.0, \"#0d0887\"], [0.1111111111111111, \"#46039f\"], [0.2222222222222222, \"#7201a8\"], [0.3333333333333333, \"#9c179e\"], [0.4444444444444444, \"#bd3786\"], [0.5555555555555556, \"#d8576b\"], [0.6666666666666666, \"#ed7953\"], [0.7777777777777778, \"#fb9f3a\"], [0.8888888888888888, \"#fdca26\"], [1.0, \"#f0f921\"]], \"type\": \"histogram2dcontour\"}], \"mesh3d\": [{\"colorbar\": {\"outlinewidth\": 0, \"ticks\": \"\"}, \"type\": \"mesh3d\"}], \"parcoords\": [{\"line\": {\"colorbar\": {\"outlinewidth\": 0, \"ticks\": \"\"}}, \"type\": \"parcoords\"}], \"pie\": [{\"automargin\": true, \"type\": \"pie\"}], \"scatter\": [{\"marker\": {\"colorbar\": {\"outlinewidth\": 0, \"ticks\": \"\"}}, \"type\": \"scatter\"}], \"scatter3d\": [{\"line\": {\"colorbar\": {\"outlinewidth\": 0, \"ticks\": \"\"}}, \"marker\": {\"colorbar\": {\"outlinewidth\": 0, \"ticks\": \"\"}}, \"type\": \"scatter3d\"}], \"scattercarpet\": [{\"marker\": {\"colorbar\": {\"outlinewidth\": 0, \"ticks\": \"\"}}, \"type\": \"scattercarpet\"}], \"scattergeo\": [{\"marker\": {\"colorbar\": {\"outlinewidth\": 0, \"ticks\": \"\"}}, \"type\": \"scattergeo\"}], \"scattergl\": [{\"marker\": {\"colorbar\": {\"outlinewidth\": 0, \"ticks\": \"\"}}, \"type\": \"scattergl\"}], \"scattermapbox\": [{\"marker\": {\"colorbar\": {\"outlinewidth\": 0, \"ticks\": \"\"}}, \"type\": \"scattermapbox\"}], \"scatterpolar\": [{\"marker\": {\"colorbar\": {\"outlinewidth\": 0, \"ticks\": \"\"}}, \"type\": \"scatterpolar\"}], \"scatterpolargl\": [{\"marker\": {\"colorbar\": {\"outlinewidth\": 0, \"ticks\": \"\"}}, \"type\": \"scatterpolargl\"}], \"scatterternary\": [{\"marker\": {\"colorbar\": {\"outlinewidth\": 0, \"ticks\": \"\"}}, \"type\": \"scatterternary\"}], \"surface\": [{\"colorbar\": {\"outlinewidth\": 0, \"ticks\": \"\"}, \"colorscale\": [[0.0, \"#0d0887\"], [0.1111111111111111, \"#46039f\"], [0.2222222222222222, \"#7201a8\"], [0.3333333333333333, \"#9c179e\"], [0.4444444444444444, \"#bd3786\"], [0.5555555555555556, \"#d8576b\"], [0.6666666666666666, \"#ed7953\"], [0.7777777777777778, \"#fb9f3a\"], [0.8888888888888888, \"#fdca26\"], [1.0, \"#f0f921\"]], \"type\": \"surface\"}], \"table\": [{\"cells\": {\"fill\": {\"color\": \"#EBF0F8\"}, \"line\": {\"color\": \"white\"}}, \"header\": {\"fill\": {\"color\": \"#C8D4E3\"}, \"line\": {\"color\": \"white\"}}, \"type\": \"table\"}]}, \"layout\": {\"annotationdefaults\": {\"arrowcolor\": \"#2a3f5f\", \"arrowhead\": 0, \"arrowwidth\": 1}, \"coloraxis\": {\"colorbar\": {\"outlinewidth\": 0, \"ticks\": \"\"}}, \"colorscale\": {\"diverging\": [[0, \"#8e0152\"], [0.1, \"#c51b7d\"], [0.2, \"#de77ae\"], [0.3, \"#f1b6da\"], [0.4, \"#fde0ef\"], [0.5, \"#f7f7f7\"], [0.6, \"#e6f5d0\"], [0.7, \"#b8e186\"], [0.8, \"#7fbc41\"], [0.9, \"#4d9221\"], [1, \"#276419\"]], \"sequential\": [[0.0, \"#0d0887\"], [0.1111111111111111, \"#46039f\"], [0.2222222222222222, \"#7201a8\"], [0.3333333333333333, \"#9c179e\"], [0.4444444444444444, \"#bd3786\"], [0.5555555555555556, \"#d8576b\"], [0.6666666666666666, \"#ed7953\"], [0.7777777777777778, \"#fb9f3a\"], [0.8888888888888888, \"#fdca26\"], [1.0, \"#f0f921\"]], \"sequentialminus\": [[0.0, \"#0d0887\"], [0.1111111111111111, \"#46039f\"], [0.2222222222222222, \"#7201a8\"], [0.3333333333333333, \"#9c179e\"], [0.4444444444444444, \"#bd3786\"], [0.5555555555555556, \"#d8576b\"], [0.6666666666666666, \"#ed7953\"], [0.7777777777777778, \"#fb9f3a\"], [0.8888888888888888, \"#fdca26\"], [1.0, \"#f0f921\"]]}, \"colorway\": [\"#636efa\", \"#EF553B\", \"#00cc96\", \"#ab63fa\", \"#FFA15A\", \"#19d3f3\", \"#FF6692\", \"#B6E880\", \"#FF97FF\", \"#FECB52\"], \"font\": {\"color\": \"#2a3f5f\"}, \"geo\": {\"bgcolor\": \"white\", \"lakecolor\": \"white\", \"landcolor\": \"#E5ECF6\", \"showlakes\": true, \"showland\": true, \"subunitcolor\": \"white\"}, \"hoverlabel\": {\"align\": \"left\"}, \"hovermode\": \"closest\", \"mapbox\": {\"style\": \"light\"}, \"paper_bgcolor\": \"white\", \"plot_bgcolor\": \"#E5ECF6\", \"polar\": {\"angularaxis\": {\"gridcolor\": \"white\", \"linecolor\": \"white\", \"ticks\": \"\"}, \"bgcolor\": \"#E5ECF6\", \"radialaxis\": {\"gridcolor\": \"white\", \"linecolor\": \"white\", \"ticks\": \"\"}}, \"scene\": {\"xaxis\": {\"backgroundcolor\": \"#E5ECF6\", \"gridcolor\": \"white\", \"gridwidth\": 2, \"linecolor\": \"white\", \"showbackground\": true, \"ticks\": \"\", \"zerolinecolor\": \"white\"}, \"yaxis\": {\"backgroundcolor\": \"#E5ECF6\", \"gridcolor\": \"white\", \"gridwidth\": 2, \"linecolor\": \"white\", \"showbackground\": true, \"ticks\": \"\", \"zerolinecolor\": \"white\"}, \"zaxis\": {\"backgroundcolor\": \"#E5ECF6\", \"gridcolor\": \"white\", \"gridwidth\": 2, \"linecolor\": \"white\", \"showbackground\": true, \"ticks\": \"\", \"zerolinecolor\": \"white\"}}, \"shapedefaults\": {\"line\": {\"color\": \"#2a3f5f\"}}, \"ternary\": {\"aaxis\": {\"gridcolor\": \"white\", \"linecolor\": \"white\", \"ticks\": \"\"}, \"baxis\": {\"gridcolor\": \"white\", \"linecolor\": \"white\", \"ticks\": \"\"}, \"bgcolor\": \"#E5ECF6\", \"caxis\": {\"gridcolor\": \"white\", \"linecolor\": \"white\", \"ticks\": \"\"}}, \"title\": {\"x\": 0.05}, \"xaxis\": {\"automargin\": true, \"gridcolor\": \"white\", \"linecolor\": \"white\", \"ticks\": \"\", \"title\": {\"standoff\": 15}, \"zerolinecolor\": \"white\", \"zerolinewidth\": 2}, \"yaxis\": {\"automargin\": true, \"gridcolor\": \"white\", \"linecolor\": \"white\", \"ticks\": \"\", \"title\": {\"standoff\": 15}, \"zerolinecolor\": \"white\", \"zerolinewidth\": 2}}}, \"width\": 1000},\n",
              "                        {\"responsive\": true}\n",
              "                    ).then(function(){\n",
              "                            \n",
              "var gd = document.getElementById('ac661e01-aff1-4883-a46c-5c8f3e296018');\n",
              "var x = new MutationObserver(function (mutations, observer) {{\n",
              "        var display = window.getComputedStyle(gd).display;\n",
              "        if (!display || display === 'none') {{\n",
              "            console.log([gd, 'removed!']);\n",
              "            Plotly.purge(gd);\n",
              "            observer.disconnect();\n",
              "        }}\n",
              "}});\n",
              "\n",
              "// Listen for the removal of the full notebook cells\n",
              "var notebookContainer = gd.closest('#notebook-container');\n",
              "if (notebookContainer) {{\n",
              "    x.observe(notebookContainer, {childList: true});\n",
              "}}\n",
              "\n",
              "// Listen for the clearing of the current output cell\n",
              "var outputEl = gd.closest('.output');\n",
              "if (outputEl) {{\n",
              "    x.observe(outputEl, {childList: true});\n",
              "}}\n",
              "\n",
              "                        })\n",
              "                };\n",
              "                \n",
              "            </script>\n",
              "        </div>\n",
              "</body>\n",
              "</html>"
            ]
          },
          "metadata": {
            "tags": []
          }
        }
      ]
    },
    {
      "cell_type": "code",
      "metadata": {
        "colab": {
          "base_uri": "https://localhost:8080/",
          "height": 717
        },
        "id": "mR4euu3IyuxV",
        "outputId": "dce74b9e-4b86-41ff-dc9c-9991c658d6b9"
      },
      "source": [
        "cspline_q2 = interpolate.CubicSpline(time, q2_vals, bc_type='clamped')\n",
        "go.Figure(\n",
        "  data=[\n",
        "    go.Scatter(x=time,y=q2_vals,mode=\"markers\"),\n",
        "    go.Scatter(x=space,y=cspline_q2(space),mode=\"lines\")\n",
        "  ],\n",
        "  layout=go.Layout(width=1000, height=700, showlegend=False)\n",
        ").show()"
      ],
      "execution_count": null,
      "outputs": [
        {
          "output_type": "display_data",
          "data": {
            "text/html": [
              "<html>\n",
              "<head><meta charset=\"utf-8\" /></head>\n",
              "<body>\n",
              "    <div>\n",
              "            <script src=\"https://cdnjs.cloudflare.com/ajax/libs/mathjax/2.7.5/MathJax.js?config=TeX-AMS-MML_SVG\"></script><script type=\"text/javascript\">if (window.MathJax) {MathJax.Hub.Config({SVG: {font: \"STIX-Web\"}});}</script>\n",
              "                <script type=\"text/javascript\">window.PlotlyConfig = {MathJaxConfig: 'local'};</script>\n",
              "        <script src=\"https://cdn.plot.ly/plotly-latest.min.js\"></script>    \n",
              "            <div id=\"de23a9e3-96b9-46fd-9d05-e8ca251c1269\" class=\"plotly-graph-div\" style=\"height:700px; width:1000px;\"></div>\n",
              "            <script type=\"text/javascript\">\n",
              "                \n",
              "                    window.PLOTLYENV=window.PLOTLYENV || {};\n",
              "                    \n",
              "                if (document.getElementById(\"de23a9e3-96b9-46fd-9d05-e8ca251c1269\")) {\n",
              "                    Plotly.newPlot(\n",
              "                        'de23a9e3-96b9-46fd-9d05-e8ca251c1269',\n",
              "                        [{\"mode\": \"markers\", \"type\": \"scatter\", \"x\": [0.0, 0.125, 0.25, 0.375, 0.5, 0.625, 0.75, 0.875, 1.0, 1.125, 1.25, 1.375, 1.5, 1.625, 1.75, 1.875, 2.0, 2.125, 2.25, 2.375, 2.5, 2.625, 2.75, 2.875, 3.0, 3.125, 3.25, 3.375, 3.5, 3.625, 3.75, 3.875, 4.0, 4.125, 4.25, 4.375, 4.5, 4.625, 4.75, 4.875], \"y\": [2.0635814789468192e-32, -0.06492062167669518, -0.18505405865584454, -0.2856698817245579, -0.35677654589534624, -0.3934619896758281, -0.3880728052266143, -0.33454528100653574, -0.2308546033818715, -0.013924794645159035, 0.4730219760180417, 1.0905530377922406, 1.5501401018192609, 1.88286922162226, 2.157932991316303, 2.3923492608502013, 2.6005429198993597, 2.787919944634368, 2.9509181161317573, 3.0720804682678025, 3.149635893795938, 3.1848732938113358, 3.19567810973529, 3.193370183348615, 3.1853930065479985, 3.176246591706948, 3.168227729648278, 3.1626772666353102, 3.1602916154332097, 3.1615253449443297, 3.1667481904127324, 3.176251555830222, 3.19008803161713, 3.2078409941586656, 3.227823579379469, 3.2466768431219952, 3.256988195754834, 3.244751018781536, 3.1855863392220236, 3.141592653589793]}, {\"mode\": \"lines\", \"type\": \"scatter\", \"x\": [0.0, 0.009769539078156312, 0.019539078156312624, 0.029308617234468936, 0.03907815631262525, 0.048847695390781556, 0.05861723446893787, 0.06838677354709419, 0.0781563126252505, 0.0879258517034068, 0.09769539078156311, 0.10746492985971944, 0.11723446893787574, 0.12700400801603207, 0.13677354709418837, 0.14654308617234468, 0.156312625250501, 0.1660821643286573, 0.1758517034068136, 0.18562124248496992, 0.19539078156312623, 0.20516032064128256, 0.21492985971943887, 0.22469939879759518, 0.2344689378757515, 0.2442384769539078, 0.25400801603206413, 0.26377755511022044, 0.27354709418837675, 0.28331663326653306, 0.29308617234468937, 0.3028557114228457, 0.312625250501002, 0.3223947895791583, 0.3321643286573146, 0.3419338677354709, 0.3517034068136272, 0.3614729458917835, 0.37124248496993983, 0.38101202404809614, 0.39078156312625245, 0.4005511022044088, 0.4103206412825651, 0.42009018036072143, 0.42985971943887774, 0.43962925851703405, 0.44939879759519036, 0.45916833667334667, 0.468937875751503, 0.4787074148296593, 0.4884769539078156, 0.4982464929859719, 0.5080160320641283, 0.5177855711422845, 0.5275551102204409, 0.5373246492985971, 0.5470941883767535, 0.5568637274549098, 0.5666332665330661, 0.5764028056112224, 0.5861723446893787, 0.595941883767535, 0.6057114228456913, 0.6154809619238476, 0.625250501002004, 0.6350200400801603, 0.6447895791583166, 0.654559118236473, 0.6643286573146292, 0.6740981963927856, 0.6838677354709418, 0.6936372745490982, 0.7034068136272544, 0.7131763527054108, 0.722945891783567, 0.7327154308617234, 0.7424849699398797, 0.752254509018036, 0.7620240480961923, 0.7717935871743486, 0.7815631262525049, 0.7913326653306613, 0.8011022044088176, 0.8108717434869739, 0.8206412825651302, 0.8304108216432865, 0.8401803607214429, 0.8499498997995991, 0.8597194388777555, 0.8694889779559117, 0.8792585170340681, 0.8890280561122244, 0.8987975951903807, 0.908567134268537, 0.9183366733466933, 0.9281062124248496, 0.937875751503006, 0.9476452905811623, 0.9574148296593186, 0.9671843687374749, 0.9769539078156312, 0.9867234468937875, 0.9964929859719438, 1.0062625250501, 1.0160320641282565, 1.0258016032064128, 1.035571142284569, 1.0453406813627253, 1.0551102204408818, 1.064879759519038, 1.0746492985971943, 1.0844188376753505, 1.094188376753507, 1.1039579158316633, 1.1137274549098195, 1.123496993987976, 1.1332665330661322, 1.1430360721442885, 1.1528056112224447, 1.1625751503006012, 1.1723446893787575, 1.1821142284569137, 1.19188376753507, 1.2016533066132264, 1.2114228456913827, 1.221192384769539, 1.2309619238476952, 1.2407314629258517, 1.250501002004008, 1.2602705410821642, 1.2700400801603207, 1.279809619238477, 1.2895791583166332, 1.2993486973947894, 1.309118236472946, 1.3188877755511021, 1.3286573146292584, 1.3384268537074147, 1.3481963927855711, 1.3579659318637274, 1.3677354709418836, 1.3775050100200399, 1.3872745490981964, 1.3970440881763526, 1.4068136272545089, 1.4165831663326653, 1.4263527054108216, 1.4361222444889779, 1.445891783567134, 1.4556613226452906, 1.4654308617234468, 1.475200400801603, 1.4849699398797593, 1.4947394789579158, 1.504509018036072, 1.5142785571142283, 1.5240480961923846, 1.533817635270541, 1.5435871743486973, 1.5533567134268536, 1.5631262525050098, 1.5728957915831663, 1.5826653306613225, 1.5924348697394788, 1.6022044088176353, 1.6119739478957915, 1.6217434869739478, 1.631513026052104, 1.6412825651302605, 1.6510521042084167, 1.660821643286573, 1.6705911823647293, 1.6803607214428857, 1.690130260521042, 1.6998997995991982, 1.7096693386773545, 1.719438877755511, 1.7292084168336672, 1.7389779559118235, 1.74874749498998, 1.7585170340681362, 1.7682865731462925, 1.7780561122244487, 1.7878256513026052, 1.7975951903807614, 1.8073647294589177, 1.817134268537074, 1.8269038076152304, 1.8366733466933867, 1.846442885771543, 1.8562124248496992, 1.8659819639278556, 1.875751503006012, 1.8855210420841682, 1.8952905811623246, 1.9050601202404809, 1.9148296593186371, 1.9245991983967934, 1.9343687374749499, 1.9441382765531061, 1.9539078156312624, 1.9636773547094186, 1.973446893787575, 1.9832164328657313, 1.9929859719438876, 2.002755511022044, 2.0125250501002, 2.0222945891783564, 2.032064128256513, 2.0418336673346693, 2.0516032064128256, 2.061372745490982, 2.071142284569138, 2.0809118236472943, 2.0906813627254506, 2.1004509018036073, 2.1102204408817635, 2.11998997995992, 2.129759519038076, 2.1395290581162323, 2.1492985971943885, 2.159068136272545, 2.168837675350701, 2.1786072144288577, 2.188376753507014, 2.1981462925851702, 2.2079158316633265, 2.2176853707414828, 2.227454909819639, 2.2372244488977953, 2.246993987975952, 2.256763527054108, 2.2665330661322645, 2.2763026052104207, 2.286072144288577, 2.295841683366733, 2.3056112224448895, 2.3153807615230457, 2.3251503006012024, 2.3349198396793587, 2.344689378757515, 2.354458917835671, 2.3642284569138274, 2.3739979959919837, 2.38376753507014, 2.3935370741482966, 2.403306613226453, 2.413076152304609, 2.4228456913827654, 2.4326152304609217, 2.442384769539078, 2.452154308617234, 2.4619238476953904, 2.471693386773547, 2.4814629258517034, 2.4912324649298596, 2.501002004008016, 2.510771543086172, 2.5205410821643284, 2.5303106212424846, 2.5400801603206413, 2.5498496993987976, 2.559619238476954, 2.56938877755511, 2.5791583166332663, 2.5889278557114226, 2.598697394789579, 2.608466933867735, 2.618236472945892, 2.628006012024048, 2.6377755511022043, 2.6475450901803605, 2.657314629258517, 2.667084168336673, 2.6768537074148293, 2.686623246492986, 2.6963927855711423, 2.7061623246492985, 2.7159318637274548, 2.725701402805611, 2.7354709418837673, 2.7452404809619235, 2.7550100200400798, 2.7647795591182365, 2.7745490981963927, 2.784318637274549, 2.7940881763527052, 2.8038577154308615, 2.8136272545090177, 2.823396793587174, 2.8331663326653307, 2.842935871743487, 2.852705410821643, 2.8624749498997994, 2.8722444889779557, 2.882014028056112, 2.891783567134268, 2.9015531062124245, 2.911322645290581, 2.9210921843687374, 2.9308617234468937, 2.94063126252505, 2.950400801603206, 2.9601703406813624, 2.9699398797595187, 2.9797094188376754, 2.9894789579158316, 2.999248496993988, 3.009018036072144, 3.0187875751503004, 3.0285571142284566, 3.038326653306613, 3.048096192384769, 3.057865731462926, 3.067635270541082, 3.0774048096192383, 3.0871743486973946, 3.096943887775551, 3.106713426853707, 3.1164829659318634, 3.1262525050100196, 3.1360220440881763, 3.1457915831663326, 3.155561122244489, 3.165330661322645, 3.1751002004008013, 3.1848697394789576, 3.194639278557114, 3.2044088176352705, 3.2141783567134268, 3.223947895791583, 3.2337174348697393, 3.2434869739478955, 3.253256513026052, 3.263026052104208, 3.2727955911823643, 3.282565130260521, 3.2923346693386772, 3.3021042084168335, 3.3118737474949898, 3.321643286573146, 3.3314128256513023, 3.3411823647294585, 3.350951903807615, 3.3607214428857715, 3.3704909819639277, 3.380260521042084, 3.39003006012024, 3.3997995991983965, 3.4095691382765527, 3.419338677354709, 3.4291082164328657, 3.438877755511022, 3.448647294589178, 3.4584168336673344, 3.4681863727454907, 3.477955911823647, 3.487725450901803, 3.49749498997996, 3.507264529058116, 3.5170340681362724, 3.5268036072144286, 3.536573146292585, 3.546342685370741, 3.5561122244488974, 3.5658817635270537, 3.5756513026052104, 3.5854208416833666, 3.595190380761523, 3.604959919839679, 3.6147294589178354, 3.6244989979959916, 3.634268537074148, 3.6440380761523046, 3.653807615230461, 3.663577154308617, 3.6733466933867733, 3.6831162324649296, 3.692885771543086, 3.702655310621242, 3.7124248496993983, 3.722194388777555, 3.7319639278557113, 3.7417334669338675, 3.751503006012024, 3.76127254509018, 3.7710420841683363, 3.7808116232464926, 3.7905811623246493, 3.8003507014028055, 3.8101202404809618, 3.819889779559118, 3.8296593186372743, 3.8394288577154305, 3.8491983967935868, 3.858967935871743, 3.8687374749498997, 3.878507014028056, 3.8882765531062122, 3.8980460921843685, 3.9078156312625247, 3.917585170340681, 3.9273547094188372, 3.937124248496994, 3.94689378757515, 3.9566633266533064, 3.9664328657314627, 3.976202404809619, 3.985971943887775, 3.9957414829659315, 4.005511022044088, 4.015280561122244, 4.0250501002004, 4.034819639278557, 4.044589178356713, 4.054358717434869, 4.064128256513026, 4.073897795591182, 4.083667334669339, 4.093436873747494, 4.103206412825651, 4.112975951903807, 4.122745490981964, 4.13251503006012, 4.142284569138276, 4.152054108216433, 4.161823647294589, 4.171593186372745, 4.181362725450901, 4.191132264529058, 4.2009018036072145, 4.21067134268537, 4.220440881763527, 4.230210420841683, 4.23997995991984, 4.249749498997995, 4.259519038076152, 4.269288577154309, 4.279058116232465, 4.288827655310621, 4.298597194388777, 4.308366733466934, 4.31813627254509, 4.327905811623246, 4.337675350701402, 4.347444889779559, 4.3572144288577155, 4.366983967935871, 4.376753507014028, 4.386523046092184, 4.3962925851703405, 4.406062124248496, 4.415831663326653, 4.42560120240481, 4.4353707414829655, 4.445140280561122, 4.454909819639278, 4.464679358717435, 4.4744488977955905, 4.484218436873747, 4.493987975951904, 4.50375751503006, 4.513527054108216, 4.523296593186372, 4.533066132264529, 4.542835671342685, 4.552605210420841, 4.562374749498998, 4.572144288577154, 4.581913827655311, 4.591683366733466, 4.601452905811623, 4.611222444889779, 4.620991983967936, 4.6307615230460915, 4.640531062124248, 4.650300601202405, 4.660070140280561, 4.669839679358717, 4.679609218436873, 4.68937875751503, 4.699148296593186, 4.708917835671342, 4.718687374749499, 4.728456913827655, 4.738226452905812, 4.747995991983967, 4.757765531062124, 4.76753507014028, 4.777304609218437, 4.787074148296593, 4.796843687374749, 4.806613226452906, 4.816382765531062, 4.826152304609218, 4.835921843687374, 4.845691382765531, 4.8554609218436875, 4.865230460921843, 4.875], \"y\": [2.0635814789468192e-32, -0.0005104523297115357, -0.0020031855478492497, -0.004420263997917803, -0.007703752023421853, -0.011795713967866064, -0.016638214174755094, -0.022173316987593606, -0.028343086749886247, -0.0350895878051377, -0.04235488449685261, -0.05008104116853565, -0.05821012216369144, -0.06668421767965382, -0.07545055711972859, -0.08446767265615282, -0.09369560078034916, -0.10309437798374024, -0.11262404075774875, -0.12224462559379726, -0.13191616898330846, -0.14159870741770503, -0.15125227738840957, -0.1608369153868447, -0.1703126579044331, -0.1796395414325974, -0.1887781052709178, -0.1977073009988447, -0.20642936207940996, -0.21494801554665408, -0.22326698843461756, -0.23139000777734103, -0.23932080060886496, -0.24706309396322992, -0.25462061487447646, -0.2619970903766451, -0.26919624750377635, -0.27622181328991086, -0.283077514769089, -0.2897667957445448, -0.29628910989488555, -0.30264096131539553, -0.30881878495321324, -0.3148190157554767, -0.32063808866932436, -0.3262724386418942, -0.33171850062032476, -0.3369727095517542, -0.34203150038332053, -0.3468913080621624, -0.35154856753541774, -0.3559997137502249, -0.3602411842136333, -0.364269434153874, -0.3680809262961054, -0.37167212339228173, -0.37503948819435734, -0.3781794834542865, -0.38108857192402357, -0.38376321635552274, -0.38619987950073836, -0.38839502411162474, -0.39034511294013624, -0.392046608738227, -0.3934959742559644, -0.3946895514808489, -0.39562323508863245, -0.3962928162097899, -0.39669408597479594, -0.39682283551412534, -0.3966748559582528, -0.3962459384376531, -0.39553187408280105, -0.3945284540241712, -0.39323146939223846, -0.3916367113174776, -0.3897399709303632, -0.38753705413396616, -0.385025948798489, -0.3822091112308363, -0.3790895448710953, -0.375670253159353, -0.3719542395356967, -0.36794450744021334, -0.3636440603129902, -0.3590559015941144, -0.35418303472367296, -0.34902846314175323, -0.3435951902884421, -0.3378862196038269, -0.3319043252682229, -0.32564500357246035, -0.3190951464963473, -0.3122411491424172, -0.30506940661320336, -0.29756631401123956, -0.289718266439059, -0.28151165899919534, -0.272932886794182, -0.2639683449265524, -0.2546044284988402, -0.24482753261357867, -0.23462405237330142, -0.22397530537903967, -0.21279773289838855, -0.2009629638767251, -0.18834173556892161, -0.17480478522985077, -0.16022285011438486, -0.14446666747739717, -0.12740697457376002, -0.10891450865834598, -0.08886000698602725, -0.06711420681167736, -0.0435478453901685, -0.018031659976372662, 0.00954232404023767, 0.03914613150002762, 0.07069831899846064, 0.10411731517827616, 0.13932154868221125, 0.17622944815300526, 0.21475944223339685, 0.25482995956612553, 0.29635942879392807, 0.33926627855954405, 0.383468937505712, 0.4288858342751717, 0.4754353947952647, 0.5230126623878415, 0.5714324526727239, 0.6204923884070668, 0.6699900923480275, 0.7197231872527625, 0.7694892958784294, 0.8190860409821827, 0.8683110453211801, 0.9169619316525773, 0.964836322733533, 1.0117318413212009, 1.0574461101727388, 1.101777502166257, 1.1446096406761868, 1.1859888323090073, 1.2259796783711534, 1.2646467801690586, 1.3020547390091555, 1.338268156197877, 1.3733516330416569, 1.4073697708469288, 1.4403871709201246, 1.4724684345676784, 1.5036781630960232, 1.5340809578115928, 1.5637409024795341, 1.5927077166983035, 1.6210152392161754, 1.6486964869450331, 1.6757844767967576, 1.7023122256832308, 1.7283127505163352, 1.7538190682079537, 1.7788641956699671, 1.8034811498142576, 1.8277029475527082, 1.8515626057972001, 1.8750931414596153, 1.8983260165806872, 1.9212746178240412, 1.9439406703196822, 1.9663257048387235, 1.9884312521522785, 2.01025884303146, 2.0318100082473807, 2.053086278571153, 2.0740891847738894, 2.0948202576267043, 2.1152810279007093, 2.135473026367017, 2.1553977837967415, 2.175057722831683, 2.1944605260494683, 2.2136157976432673, 2.232533144642703, 2.251222174077394, 2.2696924929769655, 2.287953708371036, 2.3060154272892293, 2.323887256761165, 2.341578803816465, 2.3590996754847513, 2.376459478795646, 2.393667820153193, 2.410732591884672, 2.427656235678351, 2.444440112228099, 2.4610855822277853, 2.477594006371279, 2.49396674535245, 2.510205159865166, 2.526310610603297, 2.542284458260711, 2.558128063531279, 2.5738427871088683, 2.589429989687349, 2.604891028500378, 2.620226949658955, 2.6354382456532552, 2.6505253519046637, 2.665488703834564, 2.6803287368643405, 2.695045886415378, 2.7096405879090604, 2.724113276766774, 2.7384643884099016, 2.7526943582598284, 2.7668036217379384, 2.780792614265616, 2.7946615064419045, 2.808403994984683, 2.822007082540869, 2.8354574628816365, 2.8487418297781595, 2.8618468770016112, 2.8747592983231645, 2.8874657875139946, 2.8999530383452745, 2.9122077445881764, 2.9242166000138767, 2.9359662983935477, 2.947443533498363, 2.9586358889674935, 2.9695403866559684, 2.9801597330762455, 2.990496712863624, 3.000554110653403, 3.0103347110808834, 3.019841298781365, 3.029076658390147, 3.0380435745425296, 3.046744831873812, 3.0551832150192944, 3.063361508614276, 3.071282497294057, 3.0789482802242953, 3.086357219877782, 3.0935064116916324, 3.1003929500797547, 3.1070139294560555, 3.113366444234442, 3.1194475888288222, 3.125254457653103, 3.1307841451211913, 3.136033745646995, 3.141000353644421, 3.145681063527376, 3.150072972485325, 3.154176614671371, 3.1580026603995415, 3.161563639390256, 3.1648720813639333, 3.167940516040994, 3.1707814731418584, 3.173407482386945, 3.1758310734966746, 3.178064776191466, 3.1801211201917403, 3.1820126352179154, 3.183751850990413, 3.1853512559087944, 3.186820331634686, 3.1881635677537528, 3.1893849831812817, 3.19048859683256, 3.1914784276228736, 3.1923584944675083, 3.193132816281752, 3.1938054119808896, 3.194380300480209, 3.1948615006949956, 3.195253031540537, 3.1955589119321193, 3.195783156311754, 3.1959296821749583, 3.196002313259643, 3.196004869468444, 3.1959411707039984, 3.1958150368689404, 3.195630287865907, 3.195390743597535, 3.1951002239664588, 3.1947625488753157, 3.1943815382267404, 3.193961011923371, 3.1935047898678413, 3.193016581139423, 3.1924990197267413, 3.1919541354412564, 3.1913839513749567, 3.1907904906198277, 3.190175776267856, 3.1895418314110295, 3.188890679141334, 3.1882243425507566, 3.187544844731284, 3.186854208774903, 3.1861544577736005, 3.185447614819363, 3.1847355659862884, 3.1840195064706527, 3.1833004142065735, 3.182579267048871, 3.181857042852368, 3.181134719471886, 3.1804132747622487, 3.1796936865782777, 3.1789769327747948, 3.178263991206622, 3.177555839728582, 3.1768534561954973, 3.176157818345135, 3.1754698246141677, 3.1747901563726058, 3.1741194581848027, 3.17345837461511, 3.1728075502278834, 3.1721676295874746, 3.171539257258237, 3.1709230778045243, 3.1703197357906894, 3.1697298757810852, 3.1691541423400658, 3.168593180031983, 3.168047631199771, 3.1675180049011202, 3.167004603601595, 3.166507711995397, 3.1660276147767257, 3.1655645966397823, 3.1651189422787667, 3.1646909363878777, 3.164280863661318, 3.1638890087932863, 3.163515656477983, 3.1631610914096084, 3.162825598282364, 3.1625094598861305, 3.162212922212491, 3.161936197969111, 3.161679498664436, 3.161443035806907, 3.161227020904971, 3.161031665467071, 3.160857181001652, 3.1607037790171586, 3.160571671022034, 3.1604610685247234, 3.1603721830336706, 3.1603052260573206, 3.1602604063535265, 3.1602379082208754, 3.1602379031406245, 3.1602605624812496, 3.1603060576112294, 3.1603745598990396, 3.1604662407131583, 3.160581271422061, 3.160719823394226, 3.160882067998129, 3.161068176602248, 3.1612783205750596, 3.161512671285041, 3.1617713987831766, 3.162054666972593, 3.1623626379646037, 3.1626954738703135, 3.163053336800827, 3.1634363888672503, 3.163844792180688, 3.1642787088522457, 3.164738300993028, 3.165223730714141, 3.165735160126689, 3.166272751341777, 3.166836666381173, 3.167427029934286, 3.168043871768296, 3.168687206786675, 3.169357049892897, 3.1700534159904366, 3.1707763199827643, 3.1715257767733553, 3.172301801265682, 3.1731044083632187, 3.1739336129694387, 3.174789429987814, 3.175671874321819, 3.1765809602120063, 3.1775166685834932, 3.178478932129506, 3.1794676797684365, 3.180482840418673, 3.1815243429986055, 3.1825921164266266, 3.183686089621124, 3.1848061915004893, 3.1859523509831127, 3.187124496987383, 3.188322558431692, 3.189546464234429, 3.190796117797517, 3.192070980659999, 3.1933701406146415, 3.194692673680884, 3.1960376558781634, 3.1974041632259182, 3.1987912717435867, 3.200198057450607, 3.2016235963664172, 3.2030669645104553, 3.2045272379021594, 3.2060034925609684, 3.20749480450632, 3.2090002390629366, 3.210518774211805, 3.2120493452833876, 3.213590887319388, 3.2151423353615125, 3.2167026244514667, 3.218270689630955, 3.219845465941681, 3.221425888425352, 3.2230108921236718, 3.224599412078345, 3.2261903833310783, 3.2277827409235758, 3.2293748999053427, 3.230963028978917, 3.2325426903914365, 3.23410944638056, 3.235658859183948, 3.2371864910392603, 3.2386879041841565, 3.240158660856298, 3.2415943232933433, 3.2429904537329532, 3.2443426144127883, 3.2456463675705076, 3.2468972773911235, 3.2480914528868694, 3.2492262909285667, 3.2502993744244937, 3.2513082862829266, 3.252250609412143, 3.2531239267204204, 3.253925821116036, 3.254653875507267, 3.255305672802391, 3.255878795909685, 3.2563708277374257, 3.2567793511938916, 3.2571017254140364, 3.2573257642579283, 3.2574263689697798, 3.2573775242182714, 3.2571532146720816, 3.2567274249998905, 3.2560741398703783, 3.255167343952224, 3.2539810219141083, 3.252489158424709, 3.250665738152708, 3.248484745766783, 3.245920165935615, 3.242948125409852, 3.239578141855416, 3.2358461398599485, 3.231788765139367, 3.2274426634095885, 3.2228444803865313, 3.218030861786111, 3.213038453324247, 3.2079039007168553, 3.2026638496798534, 3.19735494592916, 3.1920138351806915, 3.186677163150365, 3.1813833053300193, 3.176183633959609, 3.1711354307129533, 3.1662960069924937, 3.161722674200671, 3.1574727437399237, 3.153603527012693, 3.1501723354214186, 3.14723648036854, 3.144853273256498, 3.1430800254877336, 3.1419740484646845, 3.141592653589793]}],\n",
              "                        {\"height\": 700, \"showlegend\": false, \"template\": {\"data\": {\"bar\": [{\"error_x\": {\"color\": \"#2a3f5f\"}, \"error_y\": {\"color\": \"#2a3f5f\"}, \"marker\": {\"line\": {\"color\": \"#E5ECF6\", \"width\": 0.5}}, \"type\": \"bar\"}], \"barpolar\": [{\"marker\": {\"line\": {\"color\": \"#E5ECF6\", \"width\": 0.5}}, \"type\": \"barpolar\"}], \"carpet\": [{\"aaxis\": {\"endlinecolor\": \"#2a3f5f\", \"gridcolor\": \"white\", \"linecolor\": \"white\", \"minorgridcolor\": \"white\", \"startlinecolor\": \"#2a3f5f\"}, \"baxis\": {\"endlinecolor\": \"#2a3f5f\", \"gridcolor\": \"white\", \"linecolor\": \"white\", \"minorgridcolor\": \"white\", \"startlinecolor\": \"#2a3f5f\"}, \"type\": \"carpet\"}], \"choropleth\": [{\"colorbar\": {\"outlinewidth\": 0, \"ticks\": \"\"}, \"type\": \"choropleth\"}], \"contour\": [{\"colorbar\": {\"outlinewidth\": 0, \"ticks\": \"\"}, \"colorscale\": [[0.0, \"#0d0887\"], [0.1111111111111111, \"#46039f\"], [0.2222222222222222, \"#7201a8\"], [0.3333333333333333, \"#9c179e\"], [0.4444444444444444, \"#bd3786\"], [0.5555555555555556, \"#d8576b\"], [0.6666666666666666, \"#ed7953\"], [0.7777777777777778, \"#fb9f3a\"], [0.8888888888888888, \"#fdca26\"], [1.0, \"#f0f921\"]], \"type\": \"contour\"}], \"contourcarpet\": [{\"colorbar\": {\"outlinewidth\": 0, \"ticks\": \"\"}, \"type\": \"contourcarpet\"}], \"heatmap\": [{\"colorbar\": {\"outlinewidth\": 0, \"ticks\": \"\"}, \"colorscale\": [[0.0, \"#0d0887\"], [0.1111111111111111, \"#46039f\"], [0.2222222222222222, \"#7201a8\"], [0.3333333333333333, \"#9c179e\"], [0.4444444444444444, \"#bd3786\"], [0.5555555555555556, \"#d8576b\"], [0.6666666666666666, \"#ed7953\"], [0.7777777777777778, \"#fb9f3a\"], [0.8888888888888888, \"#fdca26\"], [1.0, \"#f0f921\"]], \"type\": \"heatmap\"}], \"heatmapgl\": [{\"colorbar\": {\"outlinewidth\": 0, \"ticks\": \"\"}, \"colorscale\": [[0.0, \"#0d0887\"], [0.1111111111111111, \"#46039f\"], [0.2222222222222222, \"#7201a8\"], [0.3333333333333333, \"#9c179e\"], [0.4444444444444444, \"#bd3786\"], [0.5555555555555556, \"#d8576b\"], [0.6666666666666666, \"#ed7953\"], [0.7777777777777778, \"#fb9f3a\"], [0.8888888888888888, \"#fdca26\"], [1.0, \"#f0f921\"]], \"type\": \"heatmapgl\"}], \"histogram\": [{\"marker\": {\"colorbar\": {\"outlinewidth\": 0, \"ticks\": \"\"}}, \"type\": \"histogram\"}], \"histogram2d\": [{\"colorbar\": {\"outlinewidth\": 0, \"ticks\": \"\"}, \"colorscale\": [[0.0, \"#0d0887\"], [0.1111111111111111, \"#46039f\"], [0.2222222222222222, \"#7201a8\"], [0.3333333333333333, \"#9c179e\"], [0.4444444444444444, \"#bd3786\"], [0.5555555555555556, \"#d8576b\"], [0.6666666666666666, \"#ed7953\"], [0.7777777777777778, \"#fb9f3a\"], [0.8888888888888888, \"#fdca26\"], [1.0, \"#f0f921\"]], \"type\": \"histogram2d\"}], \"histogram2dcontour\": [{\"colorbar\": {\"outlinewidth\": 0, \"ticks\": \"\"}, \"colorscale\": [[0.0, \"#0d0887\"], [0.1111111111111111, \"#46039f\"], [0.2222222222222222, \"#7201a8\"], [0.3333333333333333, \"#9c179e\"], [0.4444444444444444, \"#bd3786\"], [0.5555555555555556, \"#d8576b\"], [0.6666666666666666, \"#ed7953\"], [0.7777777777777778, \"#fb9f3a\"], [0.8888888888888888, \"#fdca26\"], [1.0, \"#f0f921\"]], \"type\": \"histogram2dcontour\"}], \"mesh3d\": [{\"colorbar\": {\"outlinewidth\": 0, \"ticks\": \"\"}, \"type\": \"mesh3d\"}], \"parcoords\": [{\"line\": {\"colorbar\": {\"outlinewidth\": 0, \"ticks\": \"\"}}, \"type\": \"parcoords\"}], \"pie\": [{\"automargin\": true, \"type\": \"pie\"}], \"scatter\": [{\"marker\": {\"colorbar\": {\"outlinewidth\": 0, \"ticks\": \"\"}}, \"type\": \"scatter\"}], \"scatter3d\": [{\"line\": {\"colorbar\": {\"outlinewidth\": 0, \"ticks\": \"\"}}, \"marker\": {\"colorbar\": {\"outlinewidth\": 0, \"ticks\": \"\"}}, \"type\": \"scatter3d\"}], \"scattercarpet\": [{\"marker\": {\"colorbar\": {\"outlinewidth\": 0, \"ticks\": \"\"}}, \"type\": \"scattercarpet\"}], \"scattergeo\": [{\"marker\": {\"colorbar\": {\"outlinewidth\": 0, \"ticks\": \"\"}}, \"type\": \"scattergeo\"}], \"scattergl\": [{\"marker\": {\"colorbar\": {\"outlinewidth\": 0, \"ticks\": \"\"}}, \"type\": \"scattergl\"}], \"scattermapbox\": [{\"marker\": {\"colorbar\": {\"outlinewidth\": 0, \"ticks\": \"\"}}, \"type\": \"scattermapbox\"}], \"scatterpolar\": [{\"marker\": {\"colorbar\": {\"outlinewidth\": 0, \"ticks\": \"\"}}, \"type\": \"scatterpolar\"}], \"scatterpolargl\": [{\"marker\": {\"colorbar\": {\"outlinewidth\": 0, \"ticks\": \"\"}}, \"type\": \"scatterpolargl\"}], \"scatterternary\": [{\"marker\": {\"colorbar\": {\"outlinewidth\": 0, \"ticks\": \"\"}}, \"type\": \"scatterternary\"}], \"surface\": [{\"colorbar\": {\"outlinewidth\": 0, \"ticks\": \"\"}, \"colorscale\": [[0.0, \"#0d0887\"], [0.1111111111111111, \"#46039f\"], [0.2222222222222222, \"#7201a8\"], [0.3333333333333333, \"#9c179e\"], [0.4444444444444444, \"#bd3786\"], [0.5555555555555556, \"#d8576b\"], [0.6666666666666666, \"#ed7953\"], [0.7777777777777778, \"#fb9f3a\"], [0.8888888888888888, \"#fdca26\"], [1.0, \"#f0f921\"]], \"type\": \"surface\"}], \"table\": [{\"cells\": {\"fill\": {\"color\": \"#EBF0F8\"}, \"line\": {\"color\": \"white\"}}, \"header\": {\"fill\": {\"color\": \"#C8D4E3\"}, \"line\": {\"color\": \"white\"}}, \"type\": \"table\"}]}, \"layout\": {\"annotationdefaults\": {\"arrowcolor\": \"#2a3f5f\", \"arrowhead\": 0, \"arrowwidth\": 1}, \"coloraxis\": {\"colorbar\": {\"outlinewidth\": 0, \"ticks\": \"\"}}, \"colorscale\": {\"diverging\": [[0, \"#8e0152\"], [0.1, \"#c51b7d\"], [0.2, \"#de77ae\"], [0.3, \"#f1b6da\"], [0.4, \"#fde0ef\"], [0.5, \"#f7f7f7\"], [0.6, \"#e6f5d0\"], [0.7, \"#b8e186\"], [0.8, \"#7fbc41\"], [0.9, \"#4d9221\"], [1, \"#276419\"]], \"sequential\": [[0.0, \"#0d0887\"], [0.1111111111111111, \"#46039f\"], [0.2222222222222222, \"#7201a8\"], [0.3333333333333333, \"#9c179e\"], [0.4444444444444444, \"#bd3786\"], [0.5555555555555556, \"#d8576b\"], [0.6666666666666666, \"#ed7953\"], [0.7777777777777778, \"#fb9f3a\"], [0.8888888888888888, \"#fdca26\"], [1.0, \"#f0f921\"]], \"sequentialminus\": [[0.0, \"#0d0887\"], [0.1111111111111111, \"#46039f\"], [0.2222222222222222, \"#7201a8\"], [0.3333333333333333, \"#9c179e\"], [0.4444444444444444, \"#bd3786\"], [0.5555555555555556, \"#d8576b\"], [0.6666666666666666, \"#ed7953\"], [0.7777777777777778, \"#fb9f3a\"], [0.8888888888888888, \"#fdca26\"], [1.0, \"#f0f921\"]]}, \"colorway\": [\"#636efa\", \"#EF553B\", \"#00cc96\", \"#ab63fa\", \"#FFA15A\", \"#19d3f3\", \"#FF6692\", \"#B6E880\", \"#FF97FF\", \"#FECB52\"], \"font\": {\"color\": \"#2a3f5f\"}, \"geo\": {\"bgcolor\": \"white\", \"lakecolor\": \"white\", \"landcolor\": \"#E5ECF6\", \"showlakes\": true, \"showland\": true, \"subunitcolor\": \"white\"}, \"hoverlabel\": {\"align\": \"left\"}, \"hovermode\": \"closest\", \"mapbox\": {\"style\": \"light\"}, \"paper_bgcolor\": \"white\", \"plot_bgcolor\": \"#E5ECF6\", \"polar\": {\"angularaxis\": {\"gridcolor\": \"white\", \"linecolor\": \"white\", \"ticks\": \"\"}, \"bgcolor\": \"#E5ECF6\", \"radialaxis\": {\"gridcolor\": \"white\", \"linecolor\": \"white\", \"ticks\": \"\"}}, \"scene\": {\"xaxis\": {\"backgroundcolor\": \"#E5ECF6\", \"gridcolor\": \"white\", \"gridwidth\": 2, \"linecolor\": \"white\", \"showbackground\": true, \"ticks\": \"\", \"zerolinecolor\": \"white\"}, \"yaxis\": {\"backgroundcolor\": \"#E5ECF6\", \"gridcolor\": \"white\", \"gridwidth\": 2, \"linecolor\": \"white\", \"showbackground\": true, \"ticks\": \"\", \"zerolinecolor\": \"white\"}, \"zaxis\": {\"backgroundcolor\": \"#E5ECF6\", \"gridcolor\": \"white\", \"gridwidth\": 2, \"linecolor\": \"white\", \"showbackground\": true, \"ticks\": \"\", \"zerolinecolor\": \"white\"}}, \"shapedefaults\": {\"line\": {\"color\": \"#2a3f5f\"}}, \"ternary\": {\"aaxis\": {\"gridcolor\": \"white\", \"linecolor\": \"white\", \"ticks\": \"\"}, \"baxis\": {\"gridcolor\": \"white\", \"linecolor\": \"white\", \"ticks\": \"\"}, \"bgcolor\": \"#E5ECF6\", \"caxis\": {\"gridcolor\": \"white\", \"linecolor\": \"white\", \"ticks\": \"\"}}, \"title\": {\"x\": 0.05}, \"xaxis\": {\"automargin\": true, \"gridcolor\": \"white\", \"linecolor\": \"white\", \"ticks\": \"\", \"title\": {\"standoff\": 15}, \"zerolinecolor\": \"white\", \"zerolinewidth\": 2}, \"yaxis\": {\"automargin\": true, \"gridcolor\": \"white\", \"linecolor\": \"white\", \"ticks\": \"\", \"title\": {\"standoff\": 15}, \"zerolinecolor\": \"white\", \"zerolinewidth\": 2}}}, \"width\": 1000},\n",
              "                        {\"responsive\": true}\n",
              "                    ).then(function(){\n",
              "                            \n",
              "var gd = document.getElementById('de23a9e3-96b9-46fd-9d05-e8ca251c1269');\n",
              "var x = new MutationObserver(function (mutations, observer) {{\n",
              "        var display = window.getComputedStyle(gd).display;\n",
              "        if (!display || display === 'none') {{\n",
              "            console.log([gd, 'removed!']);\n",
              "            Plotly.purge(gd);\n",
              "            observer.disconnect();\n",
              "        }}\n",
              "}});\n",
              "\n",
              "// Listen for the removal of the full notebook cells\n",
              "var notebookContainer = gd.closest('#notebook-container');\n",
              "if (notebookContainer) {{\n",
              "    x.observe(notebookContainer, {childList: true});\n",
              "}}\n",
              "\n",
              "// Listen for the clearing of the current output cell\n",
              "var outputEl = gd.closest('.output');\n",
              "if (outputEl) {{\n",
              "    x.observe(outputEl, {childList: true});\n",
              "}}\n",
              "\n",
              "                        })\n",
              "                };\n",
              "                \n",
              "            </script>\n",
              "        </div>\n",
              "</body>\n",
              "</html>"
            ]
          },
          "metadata": {
            "tags": []
          }
        }
      ]
    },
    {
      "cell_type": "markdown",
      "metadata": {
        "id": "51zZ1u-TaHtm"
      },
      "source": [
        "###<b>References</b>"
      ]
    },
    {
      "cell_type": "markdown",
      "metadata": {
        "id": "8MMWTaqY2B0P"
      },
      "source": [
        "An Introduction to Trajectory Optimization by MATTHEW KELLY"
      ]
    },
    {
      "cell_type": "code",
      "metadata": {
        "id": "6dPTc1WfoH4m"
      },
      "source": [
        ""
      ],
      "execution_count": null,
      "outputs": []
    }
  ]
}